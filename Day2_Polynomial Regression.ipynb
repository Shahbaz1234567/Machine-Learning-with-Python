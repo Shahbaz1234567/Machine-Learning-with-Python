{
 "cells": [
  {
   "cell_type": "markdown",
   "id": "061fdfb6",
   "metadata": {},
   "source": [
    "# Polynomial Regression Implementation"
   ]
  },
  {
   "cell_type": "code",
   "execution_count": 1,
   "id": "096bb288",
   "metadata": {},
   "outputs": [],
   "source": [
    "import numpy as np\n",
    "import pandas as pd\n",
    "import matplotlib.pyplot as plt\n",
    "import seaborn as sns"
   ]
  },
  {
   "cell_type": "code",
   "execution_count": 3,
   "id": "cb7df156",
   "metadata": {},
   "outputs": [
    {
     "data": {
      "text/html": [
       "<div>\n",
       "<style scoped>\n",
       "    .dataframe tbody tr th:only-of-type {\n",
       "        vertical-align: middle;\n",
       "    }\n",
       "\n",
       "    .dataframe tbody tr th {\n",
       "        vertical-align: top;\n",
       "    }\n",
       "\n",
       "    .dataframe thead th {\n",
       "        text-align: right;\n",
       "    }\n",
       "</style>\n",
       "<table border=\"1\" class=\"dataframe\">\n",
       "  <thead>\n",
       "    <tr style=\"text-align: right;\">\n",
       "      <th></th>\n",
       "      <th>Age</th>\n",
       "      <th>Claim per policy</th>\n",
       "    </tr>\n",
       "  </thead>\n",
       "  <tbody>\n",
       "    <tr>\n",
       "      <th>0</th>\n",
       "      <td>15</td>\n",
       "      <td>31177</td>\n",
       "    </tr>\n",
       "    <tr>\n",
       "      <th>1</th>\n",
       "      <td>20</td>\n",
       "      <td>34086</td>\n",
       "    </tr>\n",
       "    <tr>\n",
       "      <th>2</th>\n",
       "      <td>25</td>\n",
       "      <td>36867</td>\n",
       "    </tr>\n",
       "    <tr>\n",
       "      <th>3</th>\n",
       "      <td>30</td>\n",
       "      <td>42452</td>\n",
       "    </tr>\n",
       "    <tr>\n",
       "      <th>4</th>\n",
       "      <td>35</td>\n",
       "      <td>44681</td>\n",
       "    </tr>\n",
       "    <tr>\n",
       "      <th>5</th>\n",
       "      <td>40</td>\n",
       "      <td>46986</td>\n",
       "    </tr>\n",
       "    <tr>\n",
       "      <th>6</th>\n",
       "      <td>45</td>\n",
       "      <td>46033</td>\n",
       "    </tr>\n",
       "    <tr>\n",
       "      <th>7</th>\n",
       "      <td>50</td>\n",
       "      <td>47341</td>\n",
       "    </tr>\n",
       "    <tr>\n",
       "      <th>8</th>\n",
       "      <td>55</td>\n",
       "      <td>48762</td>\n",
       "    </tr>\n",
       "    <tr>\n",
       "      <th>9</th>\n",
       "      <td>60</td>\n",
       "      <td>52408</td>\n",
       "    </tr>\n",
       "    <tr>\n",
       "      <th>10</th>\n",
       "      <td>65</td>\n",
       "      <td>58741</td>\n",
       "    </tr>\n",
       "    <tr>\n",
       "      <th>11</th>\n",
       "      <td>70</td>\n",
       "      <td>75856</td>\n",
       "    </tr>\n",
       "  </tbody>\n",
       "</table>\n",
       "</div>"
      ],
      "text/plain": [
       "    Age  Claim per policy\n",
       "0    15             31177\n",
       "1    20             34086\n",
       "2    25             36867\n",
       "3    30             42452\n",
       "4    35             44681\n",
       "5    40             46986\n",
       "6    45             46033\n",
       "7    50             47341\n",
       "8    55             48762\n",
       "9    60             52408\n",
       "10   65             58741\n",
       "11   70             75856"
      ]
     },
     "execution_count": 3,
     "metadata": {},
     "output_type": "execute_result"
    }
   ],
   "source": [
    "#load dataset\n",
    "data=pd.read_csv('claim_per_policy.csv')\n",
    "data"
   ]
  },
  {
   "cell_type": "code",
   "execution_count": 4,
   "id": "8c0ec809",
   "metadata": {},
   "outputs": [
    {
     "name": "stdout",
     "output_type": "stream",
     "text": [
      "<class 'numpy.ndarray'> <class 'numpy.ndarray'>\n"
     ]
    }
   ],
   "source": [
    "x=data.iloc[:,:-1].values\n",
    "y=data.iloc[:,-1:].values\n",
    "print(type(x),type(y))"
   ]
  },
  {
   "cell_type": "code",
   "execution_count": 5,
   "id": "b09b49c9",
   "metadata": {},
   "outputs": [
    {
     "name": "stdout",
     "output_type": "stream",
     "text": [
      "<class 'pandas.core.series.Series'> <class 'pandas.core.series.Series'>\n"
     ]
    }
   ],
   "source": [
    "a=data.Age\n",
    "b=data['Claim per policy']\n",
    "print(type(a),type(b))"
   ]
  },
  {
   "cell_type": "code",
   "execution_count": 6,
   "id": "dccba5aa",
   "metadata": {},
   "outputs": [
    {
     "data": {
      "text/plain": [
       "(12, 2)"
      ]
     },
     "execution_count": 6,
     "metadata": {},
     "output_type": "execute_result"
    }
   ],
   "source": [
    "data.shape"
   ]
  },
  {
   "cell_type": "code",
   "execution_count": 9,
   "id": "d7aea785",
   "metadata": {},
   "outputs": [
    {
     "data": {
      "text/plain": [
       "array([[15],\n",
       "       [20],\n",
       "       [25],\n",
       "       [30],\n",
       "       [35],\n",
       "       [40],\n",
       "       [45],\n",
       "       [50],\n",
       "       [55],\n",
       "       [60],\n",
       "       [65],\n",
       "       [70]], dtype=int64)"
      ]
     },
     "execution_count": 9,
     "metadata": {},
     "output_type": "execute_result"
    }
   ],
   "source": [
    "x"
   ]
  },
  {
   "cell_type": "code",
   "execution_count": 10,
   "id": "fa564f7d",
   "metadata": {},
   "outputs": [
    {
     "data": {
      "text/plain": [
       "array([[31177],\n",
       "       [34086],\n",
       "       [36867],\n",
       "       [42452],\n",
       "       [44681],\n",
       "       [46986],\n",
       "       [46033],\n",
       "       [47341],\n",
       "       [48762],\n",
       "       [52408],\n",
       "       [58741],\n",
       "       [75856]], dtype=int64)"
      ]
     },
     "execution_count": 10,
     "metadata": {},
     "output_type": "execute_result"
    }
   ],
   "source": [
    "y"
   ]
  },
  {
   "cell_type": "code",
   "execution_count": 13,
   "id": "1ce57701",
   "metadata": {},
   "outputs": [
    {
     "data": {
      "image/png": "[encoded data removed]",
      "text/plain": [
       "<Figure size 640x480 with 1 Axes>"
      ]
     },
     "metadata": {},
     "output_type": "display_data"
    }
   ],
   "source": [
    "# visualize dataset\n",
    "plt.scatter(x,y)\n",
    "plt.title('Claim per Policy')\n",
    "plt.xlabel('Age')\n",
    "plt.ylabel('Claim Amount')\n",
    "plt.show()"
   ]
  },
  {
   "cell_type": "code",
   "execution_count": null,
   "id": "248ac8a8",
   "metadata": {},
   "outputs": [],
   "source": []
  },
  {
   "cell_type": "markdown",
   "id": "92cee62f",
   "metadata": {},
   "source": [
    "# Build Base regression model"
   ]
  },
  {
   "cell_type": "code",
   "execution_count": 14,
   "id": "a2cb3164",
   "metadata": {},
   "outputs": [
    {
     "name": "stdout",
     "output_type": "stream",
     "text": [
      "Cofficient-M:\t [[601.90769231]]\n",
      "\n",
      "Intercept-C :\t [21534.75641026]\n"
     ]
    }
   ],
   "source": [
    "# simple linear Regression for entire dataset\n",
    "\n",
    "from sklearn.linear_model import LinearRegression\n",
    "base_reg=LinearRegression()\n",
    "base_reg.fit(x,y)\n",
    "print(\"Cofficient-M:\\t\",base_reg.coef_)\n",
    "print()\n",
    "print(\"Intercept-C :\\t\",base_reg.intercept_)"
   ]
  },
  {
   "cell_type": "code",
   "execution_count": 16,
   "id": "0c8b6f4e",
   "metadata": {},
   "outputs": [
    {
     "data": {
      "image/png": "[encoded data removed]",
      "text/plain": [
       "<Figure size 640x480 with 1 Axes>"
      ]
     },
     "metadata": {},
     "output_type": "display_data"
    }
   ],
   "source": [
    "# visualize base model regression line\n",
    "plt.scatter(x,y)\n",
    "plt.plot(x,base_reg.predict(x),color='purple')\n",
    "plt.title('Claim per Policy - Base Rgression')\n",
    "plt.xlabel('Age')\n",
    "plt.ylabel('Claim Amount')\n",
    "plt.show()"
   ]
  },
  {
   "cell_type": "markdown",
   "id": "468025a3",
   "metadata": {},
   "source": [
    "# Polynomial based Linear Regression"
   ]
  },
  {
   "cell_type": "code",
   "execution_count": 17,
   "id": "d6ae9959",
   "metadata": {},
   "outputs": [
    {
     "name": "stdout",
     "output_type": "stream",
     "text": [
      "Coefficient-M:\t [[  0.         -95.94485514   8.21002997]]\n",
      "\n",
      "Intercept-C:\t [33918.21828172]\n"
     ]
    }
   ],
   "source": [
    "from sklearn.preprocessing import PolynomialFeatures\n",
    "from sklearn.linear_model import LinearRegression\n",
    "\n",
    "poly_features=PolynomialFeatures(degree=2)\n",
    "X_poly=poly_features.fit_transform(x)\n",
    "#Y_poly=poly_features.fit_transform(y)\n",
    "\n",
    "#call Linear regression and assign to poly_reg variable\n",
    "poly_reg=LinearRegression()\n",
    "poly_reg.fit(X_poly,y)\n",
    "\n",
    "print('Coefficient-M:\\t',poly_reg.coef_)\n",
    "print()\n",
    "print('Intercept-C:\\t',poly_reg.intercept_)\n",
    "\n"
   ]
  },
  {
   "cell_type": "code",
   "execution_count": 18,
   "id": "59a71557",
   "metadata": {},
   "outputs": [
    {
     "data": {
      "text/plain": [
       "array([[15],\n",
       "       [20],\n",
       "       [25],\n",
       "       [30],\n",
       "       [35],\n",
       "       [40],\n",
       "       [45],\n",
       "       [50],\n",
       "       [55],\n",
       "       [60],\n",
       "       [65],\n",
       "       [70]], dtype=int64)"
      ]
     },
     "execution_count": 18,
     "metadata": {},
     "output_type": "execute_result"
    }
   ],
   "source": [
    "x"
   ]
  },
  {
   "cell_type": "code",
   "execution_count": 19,
   "id": "43892f19",
   "metadata": {},
   "outputs": [
    {
     "data": {
      "text/plain": [
       "(array([[1.000e+00, 1.500e+01, 2.250e+02],\n",
       "        [1.000e+00, 2.000e+01, 4.000e+02],\n",
       "        [1.000e+00, 2.500e+01, 6.250e+02],\n",
       "        [1.000e+00, 3.000e+01, 9.000e+02],\n",
       "        [1.000e+00, 3.500e+01, 1.225e+03],\n",
       "        [1.000e+00, 4.000e+01, 1.600e+03],\n",
       "        [1.000e+00, 4.500e+01, 2.025e+03],\n",
       "        [1.000e+00, 5.000e+01, 2.500e+03],\n",
       "        [1.000e+00, 5.500e+01, 3.025e+03],\n",
       "        [1.000e+00, 6.000e+01, 3.600e+03],\n",
       "        [1.000e+00, 6.500e+01, 4.225e+03],\n",
       "        [1.000e+00, 7.000e+01, 4.900e+03]]),\n",
       " (12, 3))"
      ]
     },
     "execution_count": 19,
     "metadata": {},
     "output_type": "execute_result"
    }
   ],
   "source": [
    "X_poly, X_poly.shape"
   ]
  },
  {
   "cell_type": "code",
   "execution_count": 20,
   "id": "5fc31205",
   "metadata": {},
   "outputs": [
    {
     "data": {
      "image/png": "[encoded data removed]",
      "text/plain": [
       "<Figure size 640x480 with 1 Axes>"
      ]
     },
     "metadata": {},
     "output_type": "display_data"
    }
   ],
   "source": [
    "# visualize base polynomial based regression line\n",
    "plt.scatter(x,y)\n",
    "plt.plot(x,poly_reg.predict(X_poly),color='green')\n",
    "plt.title('Claim per Policy-polynomail based regression')\n",
    "plt.xlabel('Age')\n",
    "plt.ylabel('claim Amount')\n",
    "plt.show()"
   ]
  },
  {
   "cell_type": "code",
   "execution_count": 21,
   "id": "cbf5b80c",
   "metadata": {},
   "outputs": [
    {
     "name": "stdout",
     "output_type": "stream",
     "text": [
      "Coefficient-M:\t [[ 0.00000000e+00 -3.41993985e+03  2.01152658e+02 -3.84457571e+00\n",
      "   1.99421971e-02  7.14358721e-05]]\n",
      "\n",
      "Intercept-C:\t [49119.50741093]\n"
     ]
    },
    {
     "data": {
      "image/png": "[encoded data removed]",
      "text/plain": [
       "<Figure size 640x480 with 1 Axes>"
      ]
     },
     "metadata": {},
     "output_type": "display_data"
    }
   ],
   "source": [
    "from sklearn.preprocessing import PolynomialFeatures\n",
    "from sklearn.linear_model import LinearRegression\n",
    "\n",
    "poly_features=PolynomialFeatures(degree=5)\n",
    "X_poly=poly_features.fit_transform(x)\n",
    "#Y_poly=poly_features.fit_transform(y)\n",
    "\n",
    "#call Linear regression and assign to poly_reg variable\n",
    "poly_reg=LinearRegression()\n",
    "poly_reg.fit(X_poly,y)\n",
    "\n",
    "print('Coefficient-M:\\t',poly_reg.coef_)\n",
    "print()\n",
    "print('Intercept-C:\\t',poly_reg.intercept_)\n",
    "\n",
    "\n",
    "plt.scatter(x,y)\n",
    "plt.plot(x,poly_reg.predict(X_poly),color='yellow')\n",
    "plt.title('Claim per Policy-polynomail based regression')\n",
    "plt.xlabel('Age')\n",
    "plt.ylabel('claim Amount')\n",
    "plt.show()"
   ]
  },
  {
   "cell_type": "code",
   "execution_count": null,
   "id": "ebe05cdf",
   "metadata": {},
   "outputs": [],
   "source": []
  },
  {
   "cell_type": "markdown",
   "id": "6ab03eda",
   "metadata": {},
   "source": [
    "# Predict with Polynomial Regression for Any Age"
   ]
  },
  {
   "cell_type": "code",
   "execution_count": 22,
   "id": "c4bc3844",
   "metadata": {},
   "outputs": [
    {
     "name": "stdout",
     "output_type": "stream",
     "text": [
      "Age p1!: 23\n",
      "\n",
      "Predicted claim amount:\t [[36134.12414229]]\n"
     ]
    }
   ],
   "source": [
    "poly_pred=poly_reg.predict(poly_features.fit_transform(np.array([[int(input('Age p1!: '))]])))\n",
    "print()\n",
    "print('Predicted claim amount:\\t',poly_pred)"
   ]
  },
  {
   "cell_type": "code",
   "execution_count": 24,
   "id": "ed47a8f6",
   "metadata": {},
   "outputs": [
    {
     "name": "stdout",
     "output_type": "stream",
     "text": [
      "Age p1! 53\n",
      "\n",
      "Predicted claim amount by base regression:\t [[53435.86410256]]\n"
     ]
    }
   ],
   "source": [
    "base_pred=base_reg.predict(np.array([[int(input('Age p1! '))]]))\n",
    "print()\n",
    "print('Predicted claim amount by base regression:\\t',base_pred)"
   ]
  },
  {
   "cell_type": "code",
   "execution_count": 25,
   "id": "79db7cfd",
   "metadata": {},
   "outputs": [
    {
     "data": {
      "text/html": [
       "<div>\n",
       "<style scoped>\n",
       "    .dataframe tbody tr th:only-of-type {\n",
       "        vertical-align: middle;\n",
       "    }\n",
       "\n",
       "    .dataframe tbody tr th {\n",
       "        vertical-align: top;\n",
       "    }\n",
       "\n",
       "    .dataframe thead th {\n",
       "        text-align: right;\n",
       "    }\n",
       "</style>\n",
       "<table border=\"1\" class=\"dataframe\">\n",
       "  <thead>\n",
       "    <tr style=\"text-align: right;\">\n",
       "      <th></th>\n",
       "      <th>Age</th>\n",
       "      <th>Claim per policy</th>\n",
       "    </tr>\n",
       "  </thead>\n",
       "  <tbody>\n",
       "    <tr>\n",
       "      <th>0</th>\n",
       "      <td>15</td>\n",
       "      <td>31177</td>\n",
       "    </tr>\n",
       "    <tr>\n",
       "      <th>1</th>\n",
       "      <td>20</td>\n",
       "      <td>34086</td>\n",
       "    </tr>\n",
       "    <tr>\n",
       "      <th>2</th>\n",
       "      <td>25</td>\n",
       "      <td>36867</td>\n",
       "    </tr>\n",
       "    <tr>\n",
       "      <th>3</th>\n",
       "      <td>30</td>\n",
       "      <td>42452</td>\n",
       "    </tr>\n",
       "    <tr>\n",
       "      <th>4</th>\n",
       "      <td>35</td>\n",
       "      <td>44681</td>\n",
       "    </tr>\n",
       "    <tr>\n",
       "      <th>5</th>\n",
       "      <td>40</td>\n",
       "      <td>46986</td>\n",
       "    </tr>\n",
       "    <tr>\n",
       "      <th>6</th>\n",
       "      <td>45</td>\n",
       "      <td>46033</td>\n",
       "    </tr>\n",
       "    <tr>\n",
       "      <th>7</th>\n",
       "      <td>50</td>\n",
       "      <td>47341</td>\n",
       "    </tr>\n",
       "    <tr>\n",
       "      <th>8</th>\n",
       "      <td>55</td>\n",
       "      <td>48762</td>\n",
       "    </tr>\n",
       "    <tr>\n",
       "      <th>9</th>\n",
       "      <td>60</td>\n",
       "      <td>52408</td>\n",
       "    </tr>\n",
       "    <tr>\n",
       "      <th>10</th>\n",
       "      <td>65</td>\n",
       "      <td>58741</td>\n",
       "    </tr>\n",
       "    <tr>\n",
       "      <th>11</th>\n",
       "      <td>70</td>\n",
       "      <td>75856</td>\n",
       "    </tr>\n",
       "  </tbody>\n",
       "</table>\n",
       "</div>"
      ],
      "text/plain": [
       "    Age  Claim per policy\n",
       "0    15             31177\n",
       "1    20             34086\n",
       "2    25             36867\n",
       "3    30             42452\n",
       "4    35             44681\n",
       "5    40             46986\n",
       "6    45             46033\n",
       "7    50             47341\n",
       "8    55             48762\n",
       "9    60             52408\n",
       "10   65             58741\n",
       "11   70             75856"
      ]
     },
     "execution_count": 25,
     "metadata": {},
     "output_type": "execute_result"
    }
   ],
   "source": [
    "data"
   ]
  },
  {
   "cell_type": "code",
   "execution_count": 26,
   "id": "37d7a728",
   "metadata": {},
   "outputs": [
    {
     "name": "stdout",
     "output_type": "stream",
     "text": [
      "base_pred error [[-22258.86410256]]\n",
      "\n",
      "poly_pred error [[-4957.12414229]]\n"
     ]
    }
   ],
   "source": [
    "print(\"base_pred error\",y[0]-base_pred)\n",
    "print()\n",
    "print(\"poly_pred error\",y[0]-poly_pred)"
   ]
  },
  {
   "cell_type": "code",
   "execution_count": null,
   "id": "6278bd15",
   "metadata": {},
   "outputs": [],
   "source": [
    "# output differ from govind notebook file"
   ]
  },
  {
   "cell_type": "code",
   "execution_count": null,
   "id": "623e4fe4",
   "metadata": {},
   "outputs": [],
   "source": []
  }
 ],
 "metadata": {
  "kernelspec": {
   "display_name": "Python 3 (ipykernel)",
   "language": "python",
   "name": "python3"
  },
  "language_info": {
   "codemirror_mode": {
    "name": "ipython",
    "version": 3
   },
   "file_extension": ".py",
   "mimetype": "text/x-python",
   "name": "python",
   "nbconvert_exporter": "python",
   "pygments_lexer": "ipython3",
   "version": "3.11.5"
  }
 },
 "nbformat": 4,
 "nbformat_minor": 5
}
