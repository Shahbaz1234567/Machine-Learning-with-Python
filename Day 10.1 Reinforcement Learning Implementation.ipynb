{
 "cells": [
  {
   "cell_type": "code",
   "execution_count": 1,
   "id": "f6d09998",
   "metadata": {},
   "outputs": [],
   "source": [
    "import numpy as np"
   ]
  },
  {
   "cell_type": "markdown",
   "id": "a9557992",
   "metadata": {},
   "source": [
    "# Construct Reward Matrix"
   ]
  },
  {
   "cell_type": "code",
   "execution_count": 2,
   "id": "a4ea23fb",
   "metadata": {},
   "outputs": [
    {
     "data": {
      "text/plain": [
       "matrix([[ -1,  -1,  -1,  -1,   0,  -1],\n",
       "        [ -1,  -1,  -1,   0,  -1, 100],\n",
       "        [ -1,  -1,  -1,   0,  -1,  -1],\n",
       "        [ -1,   0,   0,  -1,   0,  -1],\n",
       "        [ -1,   0,   0,  -1,  -1, 100],\n",
       "        [ -1,   0,  -1,  -1,   0, 100]])"
      ]
     },
     "execution_count": 2,
     "metadata": {},
     "output_type": "execute_result"
    }
   ],
   "source": [
    "R=np.matrix([\n",
    "    \n",
    "    [-1,-1,-1,-1,0,-1],\n",
    "    [-1,-1,-1,0,-1,100],\n",
    "    [-1,-1,-1,0,-1,-1],\n",
    "    [-1,0,0,-1,0,-1],\n",
    "    [-1,0,0,-1,-1,100],\n",
    "    [-1,0,-1,-1,0,100]\n",
    "])\n",
    "R"
   ]
  },
  {
   "cell_type": "code",
   "execution_count": 3,
   "id": "5121c42b",
   "metadata": {},
   "outputs": [],
   "source": [
    "# Construct the Zero Matrix"
   ]
  },
  {
   "cell_type": "code",
   "execution_count": 4,
   "id": "65d42900",
   "metadata": {},
   "outputs": [
    {
     "name": "stdout",
     "output_type": "stream",
     "text": [
      "[[0. 0. 0. 0. 0. 0.]\n",
      " [0. 0. 0. 0. 0. 0.]\n",
      " [0. 0. 0. 0. 0. 0.]\n",
      " [0. 0. 0. 0. 0. 0.]\n",
      " [0. 0. 0. 0. 0. 0.]\n",
      " [0. 0. 0. 0. 0. 0.]]\n"
     ]
    }
   ],
   "source": [
    "Q=np.matrix(np.zeros([6,6]))\n",
    "print(Q)"
   ]
  },
  {
   "cell_type": "markdown",
   "id": "54f09616",
   "metadata": {},
   "source": [
    "# Define Gama value- Learning Parameter"
   ]
  },
  {
   "cell_type": "code",
   "execution_count": 5,
   "id": "9c9137cc",
   "metadata": {},
   "outputs": [],
   "source": [
    "gamma=0.8"
   ]
  },
  {
   "cell_type": "markdown",
   "id": "34705e4c",
   "metadata": {},
   "source": [
    "# Q- Learning:\n",
    "    Q(state,action)=R(state,action)+gamma*Max(Q(next state,all actions))"
   ]
  },
  {
   "cell_type": "markdown",
   "id": "1c0c24ce",
   "metadata": {},
   "source": [
    "# Initial state(usually to be choosen as random)"
   ]
  },
  {
   "cell_type": "code",
   "execution_count": 6,
   "id": "39ab3ee7",
   "metadata": {},
   "outputs": [],
   "source": [
    "Initial_state=1"
   ]
  },
  {
   "cell_type": "markdown",
   "id": "ef9153cd",
   "metadata": {},
   "source": [
    "# Define the Available action function\n",
    "This function returns all the available actions in the state given as an argumnet"
   ]
  },
  {
   "cell_type": "code",
   "execution_count": 7,
   "id": "c1245f12",
   "metadata": {},
   "outputs": [],
   "source": [
    "def available_actions(state):\n",
    "    current_state_row=R[state,]\n",
    "    av_act=np.where(current_state_row>=0)[1]\n",
    "    return av_act"
   ]
  },
  {
   "cell_type": "code",
   "execution_count": 8,
   "id": "939729b5",
   "metadata": {},
   "outputs": [
    {
     "name": "stdout",
     "output_type": "stream",
     "text": [
      "[3 5]\n"
     ]
    }
   ],
   "source": [
    "available_act=available_actions(Initial_state)\n",
    "print(available_act)"
   ]
  },
  {
   "cell_type": "code",
   "execution_count": 9,
   "id": "29b93916",
   "metadata": {},
   "outputs": [],
   "source": [
    "# Define the sample next action function\n",
    "\n",
    "def sample_next_action(available_actions_range):\n",
    "    next_action=int(np.random.choice(available_act,1))\n",
    "    return next_action"
   ]
  },
  {
   "cell_type": "code",
   "execution_count": 10,
   "id": "69fe60a5",
   "metadata": {},
   "outputs": [
    {
     "name": "stdout",
     "output_type": "stream",
     "text": [
      "5\n"
     ]
    }
   ],
   "source": [
    "action=sample_next_action(available_act)\n",
    "print(action)\n"
   ]
  },
  {
   "cell_type": "markdown",
   "id": "f8a791ee",
   "metadata": {},
   "source": [
    "# Q Matrix - update function"
   ]
  },
  {
   "cell_type": "code",
   "execution_count": 11,
   "id": "520501fb",
   "metadata": {},
   "outputs": [],
   "source": [
    "def update(current_state,action,gamma):\n",
    " \n",
    "    #Max(Q(next state,all actions))\n",
    "    max_index=np.where(Q[action,]==np.max(Q[action,]))[1] \n",
    "\n",
    "    if max_index.shape[0]>1:\n",
    "        max_index=int(np.random.choice(max_index,size=1))\n",
    "\n",
    "    else:\n",
    "        max_index=int(max_index)\n",
    "    max_value=Q[action,max_index]\n",
    "\n",
    "    Q[current_state,action]=R[current_state,action]+gamma*max_value"
   ]
  },
  {
   "cell_type": "code",
   "execution_count": 12,
   "id": "6d43b20f",
   "metadata": {},
   "outputs": [],
   "source": [
    "update(Initial_state,action,gamma)"
   ]
  },
  {
   "cell_type": "markdown",
   "id": "d6a5959d",
   "metadata": {},
   "source": [
    "# Train the agent with this environment information"
   ]
  },
  {
   "cell_type": "code",
   "execution_count": 18,
   "id": "47e6821c",
   "metadata": {},
   "outputs": [],
   "source": [
    "for i in range(10000000):\n",
    "    current_state=np.random.randint(0,int(Q.shape[0]))\n",
    "    action=sample_next_action(available_act)\n",
    "    update(current_state,action,gamma)"
   ]
  },
  {
   "cell_type": "markdown",
   "id": "f6dda749",
   "metadata": {},
   "source": [
    "# Testing\n",
    "goal_state=5"
   ]
  },
  {
   "cell_type": "code",
   "execution_count": 15,
   "id": "22ae9a8e",
   "metadata": {},
   "outputs": [
    {
     "name": "stdout",
     "output_type": "stream",
     "text": [
      "Optimum path of initail state 1 to the Goal State is [4, 5]\n"
     ]
    }
   ],
   "source": [
    "current_state=4\n",
    "steps=[current_state]\n",
    "while current_state!=5:\n",
    "    next_step_index=np.where(Q[current_state,]==np.max(Q[current_state,]))[1]\n",
    "    if next_step_index.shape[0]>1:\n",
    "        next_step_index=int(np.random.choice(next_step_index,size=1))\n",
    "    else:\n",
    "        next_step_index=int(next_step_index)\n",
    "    steps.append(next_step_index)\n",
    "    current_state=next_step_index\n",
    " \n",
    "print('Optimum path of initail state {} to the Goal State is {}'.format(Initial_state,steps))\n"
   ]
  },
  {
   "cell_type": "code",
   "execution_count": null,
   "id": "4ef16f68",
   "metadata": {},
   "outputs": [],
   "source": []
  }
 ],
 "metadata": {
  "kernelspec": {
   "display_name": "Python 3 (ipykernel)",
   "language": "python",
   "name": "python3"
  },
  "language_info": {
   "codemirror_mode": {
    "name": "ipython",
    "version": 3
   },
   "file_extension": ".py",
   "mimetype": "text/x-python",
   "name": "python",
   "nbconvert_exporter": "python",
   "pygments_lexer": "ipython3",
   "version": "3.11.5"
  }
 },
 "nbformat": 4,
 "nbformat_minor": 5
}
