{
 "cells": [
  {
   "cell_type": "markdown",
   "id": "d9f84127",
   "metadata": {},
   "source": [
    "# Decison Tree for Diabetes dataset"
   ]
  },
  {
   "cell_type": "code",
   "execution_count": 1,
   "id": "57d7d0e5",
   "metadata": {},
   "outputs": [],
   "source": [
    "import numpy as np\n",
    "import pandas as pd\n",
    "import matplotlib.pyplot as plt\n",
    "import seaborn as sns"
   ]
  },
  {
   "cell_type": "code",
   "execution_count": 2,
   "id": "c67a35df",
   "metadata": {},
   "outputs": [
    {
     "data": {
      "text/html": [
       "<div>\n",
       "<style scoped>\n",
       "    .dataframe tbody tr th:only-of-type {\n",
       "        vertical-align: middle;\n",
       "    }\n",
       "\n",
       "    .dataframe tbody tr th {\n",
       "        vertical-align: top;\n",
       "    }\n",
       "\n",
       "    .dataframe thead th {\n",
       "        text-align: right;\n",
       "    }\n",
       "</style>\n",
       "<table border=\"1\" class=\"dataframe\">\n",
       "  <thead>\n",
       "    <tr style=\"text-align: right;\">\n",
       "      <th></th>\n",
       "      <th>Pregnancies</th>\n",
       "      <th>Glucose</th>\n",
       "      <th>BloodPressure</th>\n",
       "      <th>SkinThickness</th>\n",
       "      <th>Insulin</th>\n",
       "      <th>BMI</th>\n",
       "      <th>DiabetesPedigreeFunction</th>\n",
       "      <th>Age</th>\n",
       "      <th>Outcome</th>\n",
       "    </tr>\n",
       "  </thead>\n",
       "  <tbody>\n",
       "    <tr>\n",
       "      <th>0</th>\n",
       "      <td>6.0</td>\n",
       "      <td>148</td>\n",
       "      <td>72</td>\n",
       "      <td>35.0</td>\n",
       "      <td>0</td>\n",
       "      <td>33.6</td>\n",
       "      <td>0.627</td>\n",
       "      <td>50.0</td>\n",
       "      <td>1</td>\n",
       "    </tr>\n",
       "    <tr>\n",
       "      <th>1</th>\n",
       "      <td>NaN</td>\n",
       "      <td>85</td>\n",
       "      <td>66</td>\n",
       "      <td>29.0</td>\n",
       "      <td>0</td>\n",
       "      <td>26.6</td>\n",
       "      <td>0.351</td>\n",
       "      <td>NaN</td>\n",
       "      <td>0</td>\n",
       "    </tr>\n",
       "    <tr>\n",
       "      <th>2</th>\n",
       "      <td>8.0</td>\n",
       "      <td>183</td>\n",
       "      <td>64</td>\n",
       "      <td>0.0</td>\n",
       "      <td>0</td>\n",
       "      <td>NaN</td>\n",
       "      <td>0.672</td>\n",
       "      <td>32.0</td>\n",
       "      <td>1</td>\n",
       "    </tr>\n",
       "    <tr>\n",
       "      <th>3</th>\n",
       "      <td>1.0</td>\n",
       "      <td>89</td>\n",
       "      <td>66</td>\n",
       "      <td>23.0</td>\n",
       "      <td>94</td>\n",
       "      <td>28.1</td>\n",
       "      <td>0.167</td>\n",
       "      <td>21.0</td>\n",
       "      <td>0</td>\n",
       "    </tr>\n",
       "    <tr>\n",
       "      <th>4</th>\n",
       "      <td>0.0</td>\n",
       "      <td>137</td>\n",
       "      <td>40</td>\n",
       "      <td>35.0</td>\n",
       "      <td>168</td>\n",
       "      <td>43.1</td>\n",
       "      <td>2.288</td>\n",
       "      <td>33.0</td>\n",
       "      <td>1</td>\n",
       "    </tr>\n",
       "  </tbody>\n",
       "</table>\n",
       "</div>"
      ],
      "text/plain": [
       "   Pregnancies  Glucose  BloodPressure  SkinThickness  Insulin   BMI  \\\n",
       "0          6.0      148             72           35.0        0  33.6   \n",
       "1          NaN       85             66           29.0        0  26.6   \n",
       "2          8.0      183             64            0.0        0   NaN   \n",
       "3          1.0       89             66           23.0       94  28.1   \n",
       "4          0.0      137             40           35.0      168  43.1   \n",
       "\n",
       "   DiabetesPedigreeFunction   Age  Outcome  \n",
       "0                     0.627  50.0        1  \n",
       "1                     0.351   NaN        0  \n",
       "2                     0.672  32.0        1  \n",
       "3                     0.167  21.0        0  \n",
       "4                     2.288  33.0        1  "
      ]
     },
     "execution_count": 2,
     "metadata": {},
     "output_type": "execute_result"
    }
   ],
   "source": [
    "data=pd.read_csv('diabetes_na.csv')\n",
    "data.head()"
   ]
  },
  {
   "cell_type": "code",
   "execution_count": 3,
   "id": "8d7f0771",
   "metadata": {},
   "outputs": [
    {
     "data": {
      "text/plain": [
       "Pregnancies                 2\n",
       "Glucose                     0\n",
       "BloodPressure               0\n",
       "SkinThickness               1\n",
       "Insulin                     0\n",
       "BMI                         1\n",
       "DiabetesPedigreeFunction    0\n",
       "Age                         1\n",
       "Outcome                     0\n",
       "dtype: int64"
      ]
     },
     "execution_count": 3,
     "metadata": {},
     "output_type": "execute_result"
    }
   ],
   "source": [
    "data.isna().sum()"
   ]
  },
  {
   "cell_type": "code",
   "execution_count": 4,
   "id": "9d1ad0ac",
   "metadata": {},
   "outputs": [
    {
     "data": {
      "text/plain": [
       "Pregnancies                 0\n",
       "Glucose                     0\n",
       "BloodPressure               0\n",
       "SkinThickness               0\n",
       "Insulin                     0\n",
       "BMI                         0\n",
       "DiabetesPedigreeFunction    0\n",
       "Age                         0\n",
       "Outcome                     0\n",
       "dtype: int64"
      ]
     },
     "execution_count": 4,
     "metadata": {},
     "output_type": "execute_result"
    }
   ],
   "source": [
    "data=data.fillna(method='bfill')\n",
    "data.isna().sum()"
   ]
  },
  {
   "cell_type": "code",
   "execution_count": 5,
   "id": "bb543166",
   "metadata": {},
   "outputs": [
    {
     "data": {
      "text/html": [
       "<div>\n",
       "<style scoped>\n",
       "    .dataframe tbody tr th:only-of-type {\n",
       "        vertical-align: middle;\n",
       "    }\n",
       "\n",
       "    .dataframe tbody tr th {\n",
       "        vertical-align: top;\n",
       "    }\n",
       "\n",
       "    .dataframe thead th {\n",
       "        text-align: right;\n",
       "    }\n",
       "</style>\n",
       "<table border=\"1\" class=\"dataframe\">\n",
       "  <thead>\n",
       "    <tr style=\"text-align: right;\">\n",
       "      <th></th>\n",
       "      <th>Pregnancies</th>\n",
       "      <th>Glucose</th>\n",
       "      <th>BloodPressure</th>\n",
       "      <th>SkinThickness</th>\n",
       "      <th>Insulin</th>\n",
       "      <th>BMI</th>\n",
       "      <th>DiabetesPedigreeFunction</th>\n",
       "      <th>Age</th>\n",
       "      <th>Outcome</th>\n",
       "    </tr>\n",
       "  </thead>\n",
       "  <tbody>\n",
       "    <tr>\n",
       "      <th>0</th>\n",
       "      <td>6.0</td>\n",
       "      <td>148</td>\n",
       "      <td>72</td>\n",
       "      <td>35.0</td>\n",
       "      <td>0</td>\n",
       "      <td>33.6</td>\n",
       "      <td>0.627</td>\n",
       "      <td>50.0</td>\n",
       "      <td>1</td>\n",
       "    </tr>\n",
       "  </tbody>\n",
       "</table>\n",
       "</div>"
      ],
      "text/plain": [
       "   Pregnancies  Glucose  BloodPressure  SkinThickness  Insulin   BMI  \\\n",
       "0          6.0      148             72           35.0        0  33.6   \n",
       "\n",
       "   DiabetesPedigreeFunction   Age  Outcome  \n",
       "0                     0.627  50.0        1  "
      ]
     },
     "execution_count": 5,
     "metadata": {},
     "output_type": "execute_result"
    }
   ],
   "source": [
    "data.head(1)"
   ]
  },
  {
   "cell_type": "code",
   "execution_count": 6,
   "id": "fba99381",
   "metadata": {},
   "outputs": [
    {
     "name": "stdout",
     "output_type": "stream",
     "text": [
      "     Pregnancies  Glucose  BloodPressure  SkinThickness  Insulin   BMI  \\\n",
      "0            6.0      148             72           35.0        0  33.6   \n",
      "1            8.0       85             66           29.0        0  26.6   \n",
      "2            8.0      183             64            0.0        0  28.1   \n",
      "3            1.0       89             66           23.0       94  28.1   \n",
      "4            0.0      137             40           35.0      168  43.1   \n",
      "..           ...      ...            ...            ...      ...   ...   \n",
      "763         10.0      101             76           48.0      180  32.9   \n",
      "764          2.0      122             70           27.0        0  36.8   \n",
      "765          5.0      121             72           23.0      112  26.2   \n",
      "766          1.0      126             60            0.0        0  30.1   \n",
      "767          1.0       93             70           31.0        0  30.4   \n",
      "\n",
      "     DiabetesPedigreeFunction   Age  \n",
      "0                       0.627  50.0  \n",
      "1                       0.351  32.0  \n",
      "2                       0.672  32.0  \n",
      "3                       0.167  21.0  \n",
      "4                       2.288  33.0  \n",
      "..                        ...   ...  \n",
      "763                     0.171  63.0  \n",
      "764                     0.340  27.0  \n",
      "765                     0.245  30.0  \n",
      "766                     0.349  47.0  \n",
      "767                     0.315  23.0  \n",
      "\n",
      "[768 rows x 8 columns]\n",
      "////////////////////////////////////////////////////////////////////////////////////////////////////\n",
      "     Outcome\n",
      "0          1\n",
      "1          0\n",
      "2          1\n",
      "3          0\n",
      "4          1\n",
      "..       ...\n",
      "763        0\n",
      "764        0\n",
      "765        0\n",
      "766        1\n",
      "767        0\n",
      "\n",
      "[768 rows x 1 columns]\n"
     ]
    }
   ],
   "source": [
    "#data.target_names\n",
    "x=data.iloc[:,:-1]\n",
    "y=data.iloc[:,-1:]\n",
    "print(x)\n",
    "print('/'*100)\n",
    "print(y)"
   ]
  },
  {
   "cell_type": "code",
   "execution_count": 7,
   "id": "0368878d",
   "metadata": {},
   "outputs": [
    {
     "data": {
      "text/plain": [
       "<Axes: xlabel='Outcome', ylabel='count'>"
      ]
     },
     "execution_count": 7,
     "metadata": {},
     "output_type": "execute_result"
    },
    {
     "data": {
      "image/png": "[encoded data removed]",
      "text/plain": [
       "<Figure size 640x480 with 1 Axes>"
      ]
     },
     "metadata": {},
     "output_type": "display_data"
    }
   ],
   "source": [
    "sns.countplot(x=data['Outcome'])"
   ]
  },
  {
   "cell_type": "markdown",
   "id": "a857c47e",
   "metadata": {},
   "source": [
    "# Split the data for training & testing"
   ]
  },
  {
   "cell_type": "code",
   "execution_count": 8,
   "id": "f5871687",
   "metadata": {},
   "outputs": [
    {
     "name": "stdout",
     "output_type": "stream",
     "text": [
      "**************Training Data shaep***********\n",
      "\n",
      "Training data-X- Shape:\t (576, 8)\n",
      "\n",
      "Training data-y- Shape:\t (576, 1)\n",
      "\n",
      "****************Testing Data Shape********************\n",
      "\n",
      "Testing data(x-Input) Shape:\t (192, 8)\n",
      "\n",
      "Testing data(y-Outcome) Shape:\t (192, 1)\n"
     ]
    }
   ],
   "source": [
    "from sklearn.model_selection import train_test_split\n",
    "\n",
    "xtrain,xtest,ytrain,ytest=train_test_split(x,y,test_size=.25,random_state=2)\n",
    "print('**************Training Data shaep***********\\n')\n",
    "print('Training data-X- Shape:\\t',xtrain.shape)\n",
    "print()\n",
    "print('Training data-y- Shape:\\t',ytrain.shape)\n",
    "print()\n",
    "print('****************Testing Data Shape********************\\n')\n",
    "print('Testing data(x-Input) Shape:\\t',xtest.shape)\n",
    "print()\n",
    "print('Testing data(y-Outcome) Shape:\\t',ytest.shape)"
   ]
  },
  {
   "cell_type": "markdown",
   "id": "08120b65",
   "metadata": {},
   "source": [
    "# Build the Decision Tree model with criterion =GINI index method"
   ]
  },
  {
   "cell_type": "code",
   "execution_count": 9,
   "id": "d0dde317",
   "metadata": {},
   "outputs": [
    {
     "name": "stdout",
     "output_type": "stream",
     "text": [
      "****************************************************************************************************\n",
      "Decison Tree Model\n",
      "****************************************************************************************************\n",
      "\n",
      " Training Phase\n",
      "Hyperparameter:\n",
      " {'ccp_alpha': 0.0, 'class_weight': None, 'criterion': 'gini', 'max_depth': None, 'max_features': None, 'max_leaf_nodes': None, 'min_impurity_decrease': 0.0, 'min_samples_leaf': 1, 'min_samples_split': 2, 'min_weight_fraction_leaf': 0.0, 'random_state': None, 'splitter': 'best'}\n",
      "Training Completed\n",
      "====================================================================================================\n",
      "\n",
      " Test Phase\n",
      "Predicted class labels for the test samples:\n",
      " [0 1 0 1 0 0 0 1 0 0 0 0 1 0 0 1 1 0 1 1 1 1 0 1 0 0 1 0 0 0 1 0 0 0 0 1 1\n",
      " 1 0 0 1 0 0 0 0 0 0 1 0 0 0 1 1 1 1 1 1 0 1 0 1 1 1 1 0 0 0 0 0 1 0 0 0 0\n",
      " 0 1 0 0 0 1 0 0 0 0 1 1 0 0 0 0 0 0 0 1 0 1 0 0 0 1 1 0 0 0 0 0 1 0 0 0 0\n",
      " 0 0 0 0 1 1 0 0 0 0 0 0 0 1 1 0 0 0 0 1 0 1 0 0 1 0 1 1 1 1 1 0 1 0 0 0 0\n",
      " 0 0 0 1 1 0 0 0 0 1 0 1 0 0 0 1 0 0 0 1 1 0 0 0 0 0 1 1 1 1 0 0 0 0 1 0 0\n",
      " 0 0 1 0 1 0 0]\n",
      "\n",
      "Testing completed\n",
      "====================================================================================================\n",
      "****************************************************************************************************\n",
      "Decison Tree - Performance Measures\n",
      "****************************************************************************************************\n",
      "Accuracy Score:\t 0.6979166666666666\n",
      "====================================================================================================\n",
      "Confusion Matric:\n",
      " [[101  33]\n",
      " [ 25  33]]\n",
      "====================================================================================================\n",
      "Classification Report\n",
      "               precision    recall  f1-score   support\n",
      "\n",
      "           0       0.80      0.75      0.78       134\n",
      "           1       0.50      0.57      0.53        58\n",
      "\n",
      "    accuracy                           0.70       192\n",
      "   macro avg       0.65      0.66      0.65       192\n",
      "weighted avg       0.71      0.70      0.70       192\n",
      "\n",
      "====================================================================================================\n"
     ]
    }
   ],
   "source": [
    "from sklearn.tree import DecisionTreeClassifier\n",
    "dt_clf=DecisionTreeClassifier()\n",
    "print('*'*100)\n",
    "print('Decison Tree Model')\n",
    "print('*'*100)\n",
    "print('\\n Training Phase')\n",
    "dt_clf.fit(xtrain,ytrain)\n",
    "print('Hyperparameter:\\n',dt_clf.get_params())\n",
    "print('Training Completed')\n",
    "print('='*100)\n",
    "print('\\n Test Phase')\n",
    "ypred=dt_clf.predict(xtest)\n",
    "print('Predicted class labels for the test samples:\\n',ypred)\n",
    "print()\n",
    "print('Testing completed')\n",
    "print('='*100)\n",
    "#import metrics\n",
    "from sklearn.metrics import accuracy_score\n",
    "from sklearn.metrics import confusion_matrix\n",
    "from sklearn.metrics import classification_report\n",
    "print('*'*100)\n",
    "print('Decison Tree - Performance Measures')\n",
    "print('*'*100)\n",
    "print('Accuracy Score:\\t',accuracy_score(ytest,ypred))\n",
    "print('='*100)\n",
    "print('Confusion Matric:\\n',confusion_matrix(ytest,ypred))\n",
    "print('='*100)\n",
    "print('Classification Report\\n',classification_report(ytest,ypred))\n",
    "print('='*100)"
   ]
  },
  {
   "cell_type": "markdown",
   "id": "a77a277d",
   "metadata": {},
   "source": [
    "# Build the Decision Tree model with criterion = entropy index method\n"
   ]
  },
  {
   "cell_type": "code",
   "execution_count": 10,
   "id": "936b032e",
   "metadata": {},
   "outputs": [
    {
     "name": "stdout",
     "output_type": "stream",
     "text": [
      "****************************************************************************************************\n",
      "Decison Tree Model\n",
      "****************************************************************************************************\n",
      "\n",
      " Training Phase\n",
      "Hyperparameter:\n",
      " {'ccp_alpha': 0.0, 'class_weight': None, 'criterion': 'entropy', 'max_depth': None, 'max_features': None, 'max_leaf_nodes': None, 'min_impurity_decrease': 0.0, 'min_samples_leaf': 1, 'min_samples_split': 2, 'min_weight_fraction_leaf': 0.0, 'random_state': None, 'splitter': 'best'}\n",
      "Training Completed\n",
      "====================================================================================================\n",
      "\n",
      " Test Phase\n",
      "Predicted class labels for the test samples:\n",
      " [0 0 0 0 1 0 0 1 0 0 0 1 1 0 0 1 1 0 1 1 1 1 0 1 0 0 1 0 0 0 1 0 0 0 0 1 0\n",
      " 1 0 0 1 0 0 0 0 0 0 1 0 1 0 1 1 0 1 1 1 1 1 0 1 1 1 1 0 0 0 0 0 1 1 0 0 0\n",
      " 0 0 1 0 0 0 0 0 0 1 1 1 0 0 0 0 0 0 0 0 0 1 1 0 1 0 0 0 0 0 0 0 1 1 0 0 0\n",
      " 0 0 0 0 1 1 0 0 0 0 0 0 0 0 1 0 1 0 1 1 1 1 0 0 0 1 1 0 1 0 1 0 1 0 0 0 0\n",
      " 0 0 0 1 1 0 0 0 0 1 0 1 0 0 0 0 0 0 0 1 0 0 1 0 0 0 0 0 0 0 0 0 0 0 1 0 0\n",
      " 0 0 1 0 1 0 0]\n",
      "\n",
      "Testing completed\n",
      "====================================================================================================\n",
      "****************************************************************************************************\n",
      "Decison Tree - Performance Measures\n",
      "****************************************************************************************************\n",
      "Accuracy Score:\t 0.6979166666666666\n",
      "====================================================================================================\n",
      "Confusion Matric:\n",
      " [[103  31]\n",
      " [ 27  31]]\n",
      "====================================================================================================\n",
      "Classification Report\n",
      "               precision    recall  f1-score   support\n",
      "\n",
      "           0       0.79      0.77      0.78       134\n",
      "           1       0.50      0.53      0.52        58\n",
      "\n",
      "    accuracy                           0.70       192\n",
      "   macro avg       0.65      0.65      0.65       192\n",
      "weighted avg       0.70      0.70      0.70       192\n",
      "\n",
      "====================================================================================================\n"
     ]
    }
   ],
   "source": [
    "from sklearn.tree import DecisionTreeClassifier\n",
    "dt_clf=DecisionTreeClassifier(criterion='entropy')\n",
    "print('*'*100)\n",
    "print('Decison Tree Model')\n",
    "print('*'*100)\n",
    "print('\\n Training Phase')\n",
    "dt_clf.fit(xtrain,ytrain)\n",
    "print('Hyperparameter:\\n',dt_clf.get_params())\n",
    "print('Training Completed')\n",
    "print('='*100)\n",
    "print('\\n Test Phase')\n",
    "ypred=dt_clf.predict(xtest)\n",
    "print('Predicted class labels for the test samples:\\n',ypred)\n",
    "print()\n",
    "print('Testing completed')\n",
    "print('='*100)\n",
    "#import metrics\n",
    "from sklearn.metrics import accuracy_score\n",
    "from sklearn.metrics import confusion_matrix\n",
    "from sklearn.metrics import classification_report\n",
    "print('*'*100)\n",
    "print('Decison Tree - Performance Measures')\n",
    "print('*'*100)\n",
    "print('Accuracy Score:\\t',accuracy_score(ytest,ypred))\n",
    "print('='*100)\n",
    "print('Confusion Matric:\\n',confusion_matrix(ytest,ypred))\n",
    "print('='*100)\n",
    "print('Classification Report\\n',classification_report(ytest,ypred))\n",
    "print('='*100)"
   ]
  },
  {
   "cell_type": "markdown",
   "id": "57a7b616",
   "metadata": {},
   "source": [
    "# Build the Decision Tree model with max_depth"
   ]
  },
  {
   "cell_type": "code",
   "execution_count": 11,
   "id": "aef926b2",
   "metadata": {},
   "outputs": [
    {
     "name": "stdout",
     "output_type": "stream",
     "text": [
      "3\n"
     ]
    }
   ],
   "source": [
    "from sklearn.tree import DecisionTreeClassifier\n",
    "from sklearn.model_selection import GridSearchCV\n",
    "param_grid={ 'max_depth':[None,3,4,5,6,7,8,10]}\n",
    "clf=DecisionTreeClassifier(criterion='entropy')\n",
    "grid_search=GridSearchCV(clf,param_grid,cv=5)\n",
    "grid_search.fit(xtrain,ytrain)\n",
    "best_max_depth=grid_search.best_params_['max_depth']\n",
    "print(best_max_depth)"
   ]
  },
  {
   "cell_type": "code",
   "execution_count": 12,
   "id": "a0e21984",
   "metadata": {},
   "outputs": [
    {
     "data": {
      "text/plain": [
       "{'max_depth': 3}"
      ]
     },
     "execution_count": 12,
     "metadata": {},
     "output_type": "execute_result"
    }
   ],
   "source": [
    "grid_search.best_params_"
   ]
  },
  {
   "cell_type": "code",
   "execution_count": 13,
   "id": "f3a21a0f",
   "metadata": {},
   "outputs": [
    {
     "data": {
      "text/plain": [
       "{'mean_fit_time': array([0.02389703, 0.0061626 , 0.00732255, 0.00853324, 0.01031938,\n",
       "        0.00936055, 0.01090941, 0.01117444]),\n",
       " 'std_fit_time': array([0.00506888, 0.00591082, 0.00429233, 0.0075359 , 0.00468703,\n",
       "        0.00310695, 0.00157648, 0.00285433]),\n",
       " 'mean_score_time': array([0.00507016, 0.00502234, 0.00446005, 0.00063105, 0.00349903,\n",
       "        0.0033968 , 0.0026957 , 0.00278339]),\n",
       " 'std_score_time': array([0.00181269, 0.00408396, 0.00531083, 0.00126209, 0.00337887,\n",
       "        0.00275392, 0.00095586, 0.00257396]),\n",
       " 'param_max_depth': masked_array(data=[None, 3, 4, 5, 6, 7, 8, 10],\n",
       "              mask=[False, False, False, False, False, False, False, False],\n",
       "        fill_value='?',\n",
       "             dtype=object),\n",
       " 'params': [{'max_depth': None},\n",
       "  {'max_depth': 3},\n",
       "  {'max_depth': 4},\n",
       "  {'max_depth': 5},\n",
       "  {'max_depth': 6},\n",
       "  {'max_depth': 7},\n",
       "  {'max_depth': 8},\n",
       "  {'max_depth': 10}],\n",
       " 'split0_test_score': array([0.63793103, 0.70689655, 0.67241379, 0.65517241, 0.64655172,\n",
       "        0.65517241, 0.6637931 , 0.65517241]),\n",
       " 'split1_test_score': array([0.70434783, 0.69565217, 0.72173913, 0.70434783, 0.73913043,\n",
       "        0.69565217, 0.71304348, 0.70434783]),\n",
       " 'split2_test_score': array([0.66956522, 0.76521739, 0.74782609, 0.71304348, 0.67826087,\n",
       "        0.67826087, 0.67826087, 0.69565217]),\n",
       " 'split3_test_score': array([0.66086957, 0.68695652, 0.73913043, 0.73043478, 0.73913043,\n",
       "        0.69565217, 0.68695652, 0.65217391]),\n",
       " 'split4_test_score': array([0.73043478, 0.76521739, 0.73043478, 0.69565217, 0.72173913,\n",
       "        0.68695652, 0.67826087, 0.72173913]),\n",
       " 'mean_test_score': array([0.68062969, 0.72398801, 0.72230885, 0.69973013, 0.70496252,\n",
       "        0.68233883, 0.68406297, 0.68581709]),\n",
       " 'std_test_score': array([0.03279987, 0.03425228, 0.02641957, 0.02507335, 0.03671824,\n",
       "        0.01503634, 0.01628766, 0.02757343]),\n",
       " 'rank_test_score': array([8, 1, 2, 4, 3, 7, 6, 5])}"
      ]
     },
     "execution_count": 13,
     "metadata": {},
     "output_type": "execute_result"
    }
   ],
   "source": [
    "grid_search.cv_results_"
   ]
  },
  {
   "cell_type": "code",
   "execution_count": 14,
   "id": "893b4ca2",
   "metadata": {},
   "outputs": [
    {
     "data": {
      "text/html": [
       "<style>#sk-container-id-1 {color: black;background-color: white;}#sk-container-id-1 pre{padding: 0;}#sk-container-id-1 div.sk-toggleable {background-color: white;}#sk-container-id-1 label.sk-toggleable__label {cursor: pointer;display: block;width: 100%;margin-bottom: 0;padding: 0.3em;box-sizing: border-box;text-align: center;}#sk-container-id-1 label.sk-toggleable__label-arrow:before {content: \"▸\";float: left;margin-right: 0.25em;color: #696969;}#sk-container-id-1 label.sk-toggleable__label-arrow:hover:before {color: black;}#sk-container-id-1 div.sk-estimator:hover label.sk-toggleable__label-arrow:before {color: black;}#sk-container-id-1 div.sk-toggleable__content {max-height: 0;max-width: 0;overflow: hidden;text-align: left;background-color: #f0f8ff;}#sk-container-id-1 div.sk-toggleable__content pre {margin: 0.2em;color: black;border-radius: 0.25em;background-color: #f0f8ff;}#sk-container-id-1 input.sk-toggleable__control:checked~div.sk-toggleable__content {max-height: 200px;max-width: 100%;overflow: auto;}#sk-container-id-1 input.sk-toggleable__control:checked~label.sk-toggleable__label-arrow:before {content: \"▾\";}#sk-container-id-1 div.sk-estimator input.sk-toggleable__control:checked~label.sk-toggleable__label {background-color: #d4ebff;}#sk-container-id-1 div.sk-label input.sk-toggleable__control:checked~label.sk-toggleable__label {background-color: #d4ebff;}#sk-container-id-1 input.sk-hidden--visually {border: 0;clip: rect(1px 1px 1px 1px);clip: rect(1px, 1px, 1px, 1px);height: 1px;margin: -1px;overflow: hidden;padding: 0;position: absolute;width: 1px;}#sk-container-id-1 div.sk-estimator {font-family: monospace;background-color: #f0f8ff;border: 1px dotted black;border-radius: 0.25em;box-sizing: border-box;margin-bottom: 0.5em;}#sk-container-id-1 div.sk-estimator:hover {background-color: #d4ebff;}#sk-container-id-1 div.sk-parallel-item::after {content: \"\";width: 100%;border-bottom: 1px solid gray;flex-grow: 1;}#sk-container-id-1 div.sk-label:hover label.sk-toggleable__label {background-color: #d4ebff;}#sk-container-id-1 div.sk-serial::before {content: \"\";position: absolute;border-left: 1px solid gray;box-sizing: border-box;top: 0;bottom: 0;left: 50%;z-index: 0;}#sk-container-id-1 div.sk-serial {display: flex;flex-direction: column;align-items: center;background-color: white;padding-right: 0.2em;padding-left: 0.2em;position: relative;}#sk-container-id-1 div.sk-item {position: relative;z-index: 1;}#sk-container-id-1 div.sk-parallel {display: flex;align-items: stretch;justify-content: center;background-color: white;position: relative;}#sk-container-id-1 div.sk-item::before, #sk-container-id-1 div.sk-parallel-item::before {content: \"\";position: absolute;border-left: 1px solid gray;box-sizing: border-box;top: 0;bottom: 0;left: 50%;z-index: -1;}#sk-container-id-1 div.sk-parallel-item {display: flex;flex-direction: column;z-index: 1;position: relative;background-color: white;}#sk-container-id-1 div.sk-parallel-item:first-child::after {align-self: flex-end;width: 50%;}#sk-container-id-1 div.sk-parallel-item:last-child::after {align-self: flex-start;width: 50%;}#sk-container-id-1 div.sk-parallel-item:only-child::after {width: 0;}#sk-container-id-1 div.sk-dashed-wrapped {border: 1px dashed gray;margin: 0 0.4em 0.5em 0.4em;box-sizing: border-box;padding-bottom: 0.4em;background-color: white;}#sk-container-id-1 div.sk-label label {font-family: monospace;font-weight: bold;display: inline-block;line-height: 1.2em;}#sk-container-id-1 div.sk-label-container {text-align: center;}#sk-container-id-1 div.sk-container {/* jupyter's `normalize.less` sets `[hidden] { display: none; }` but bootstrap.min.css set `[hidden] { display: none !important; }` so we also need the `!important` here to be able to override the default hidden behavior on the sphinx rendered scikit-learn.org. See: https://github.com/scikit-learn/scikit-learn/issues/21755 */display: inline-block !important;position: relative;}#sk-container-id-1 div.sk-text-repr-fallback {display: none;}</style><div id=\"sk-container-id-1\" class=\"sk-top-container\"><div class=\"sk-text-repr-fallback\"><pre>DecisionTreeClassifier(criterion=&#x27;entropy&#x27;, max_depth=3)</pre><b>In a Jupyter environment, please rerun this cell to show the HTML representation or trust the notebook. <br />On GitHub, the HTML representation is unable to render, please try loading this page with nbviewer.org.</b></div><div class=\"sk-container\" hidden><div class=\"sk-item\"><div class=\"sk-estimator sk-toggleable\"><input class=\"sk-toggleable__control sk-hidden--visually\" id=\"sk-estimator-id-1\" type=\"checkbox\" checked><label for=\"sk-estimator-id-1\" class=\"sk-toggleable__label sk-toggleable__label-arrow\">DecisionTreeClassifier</label><div class=\"sk-toggleable__content\"><pre>DecisionTreeClassifier(criterion=&#x27;entropy&#x27;, max_depth=3)</pre></div></div></div></div></div>"
      ],
      "text/plain": [
       "DecisionTreeClassifier(criterion='entropy', max_depth=3)"
      ]
     },
     "execution_count": 14,
     "metadata": {},
     "output_type": "execute_result"
    }
   ],
   "source": [
    "grid_search.best_estimator_"
   ]
  },
  {
   "cell_type": "code",
   "execution_count": 15,
   "id": "93027ac4",
   "metadata": {},
   "outputs": [
    {
     "data": {
      "text/plain": [
       "1"
      ]
     },
     "execution_count": 15,
     "metadata": {},
     "output_type": "execute_result"
    }
   ],
   "source": [
    "grid_search.best_index_"
   ]
  },
  {
   "cell_type": "code",
   "execution_count": 16,
   "id": "252ca2a1",
   "metadata": {},
   "outputs": [
    {
     "data": {
      "text/plain": [
       "array([0, 1], dtype=int64)"
      ]
     },
     "execution_count": 16,
     "metadata": {},
     "output_type": "execute_result"
    }
   ],
   "source": [
    "grid_search.classes_"
   ]
  },
  {
   "cell_type": "code",
   "execution_count": 17,
   "id": "51b7f189",
   "metadata": {},
   "outputs": [
    {
     "data": {
      "text/plain": [
       "5"
      ]
     },
     "execution_count": 17,
     "metadata": {},
     "output_type": "execute_result"
    }
   ],
   "source": [
    "grid_search.cv"
   ]
  },
  {
   "cell_type": "code",
   "execution_count": 18,
   "id": "82fb7ce0",
   "metadata": {},
   "outputs": [
    {
     "data": {
      "text/plain": [
       "array(['Pregnancies', 'Glucose', 'BloodPressure', 'SkinThickness',\n",
       "       'Insulin', 'BMI', 'DiabetesPedigreeFunction', 'Age'], dtype=object)"
      ]
     },
     "execution_count": 18,
     "metadata": {},
     "output_type": "execute_result"
    }
   ],
   "source": [
    "grid_search.feature_names_in_"
   ]
  },
  {
   "cell_type": "code",
   "execution_count": 19,
   "id": "96f8cbfa",
   "metadata": {},
   "outputs": [
    {
     "data": {
      "text/plain": [
       "5"
      ]
     },
     "execution_count": 19,
     "metadata": {},
     "output_type": "execute_result"
    }
   ],
   "source": [
    "grid_search.n_splits_"
   ]
  },
  {
   "cell_type": "code",
   "execution_count": 20,
   "id": "bf8dd8c7",
   "metadata": {},
   "outputs": [
    {
     "data": {
      "text/plain": [
       "{'ccp_alpha': 0.0,\n",
       " 'class_weight': None,\n",
       " 'criterion': 'entropy',\n",
       " 'max_depth': None,\n",
       " 'max_features': None,\n",
       " 'max_leaf_nodes': None,\n",
       " 'min_impurity_decrease': 0.0,\n",
       " 'min_samples_leaf': 1,\n",
       " 'min_samples_split': 2,\n",
       " 'min_weight_fraction_leaf': 0.0,\n",
       " 'random_state': None,\n",
       " 'splitter': 'best'}"
      ]
     },
     "execution_count": 20,
     "metadata": {},
     "output_type": "execute_result"
    }
   ],
   "source": [
    "clf.get_params()"
   ]
  },
  {
   "cell_type": "code",
   "execution_count": 21,
   "id": "bbc44ba8",
   "metadata": {},
   "outputs": [
    {
     "data": {
      "text/plain": [
       "[Text(0.468518175074184, 0.9736842105263158, 'X[1] <= 127.5\\nentropy = 0.946\\nsamples = 576\\nvalue = [366, 210]'),\n",
       " Text(0.1142433234421365, 0.9210526315789473, 'X[5] <= 26.45\\nentropy = 0.708\\nsamples = 352\\nvalue = [284, 68]'),\n",
       " Text(0.03560830860534125, 0.868421052631579, 'X[5] <= 9.1\\nentropy = 0.139\\nsamples = 102\\nvalue = [100, 2]'),\n",
       " Text(0.02373887240356083, 0.8157894736842105, 'X[0] <= 7.5\\nentropy = 0.764\\nsamples = 9\\nvalue = [7, 2]'),\n",
       " Text(0.011869436201780416, 0.7631578947368421, 'entropy = 0.0\\nsamples = 7\\nvalue = [7, 0]'),\n",
       " Text(0.03560830860534125, 0.7631578947368421, 'entropy = 0.0\\nsamples = 2\\nvalue = [0, 2]'),\n",
       " Text(0.04747774480712166, 0.8157894736842105, 'entropy = 0.0\\nsamples = 93\\nvalue = [93, 0]'),\n",
       " Text(0.19287833827893175, 0.868421052631579, 'X[7] <= 28.5\\nentropy = 0.833\\nsamples = 250\\nvalue = [184, 66]'),\n",
       " Text(0.0712166172106825, 0.8157894736842105, 'X[5] <= 45.4\\nentropy = 0.552\\nsamples = 125\\nvalue = [109, 16]'),\n",
       " Text(0.05934718100890208, 0.7631578947368421, 'X[5] <= 30.9\\nentropy = 0.489\\nsamples = 122\\nvalue = [109, 13]'),\n",
       " Text(0.04747774480712166, 0.7105263157894737, 'entropy = 0.0\\nsamples = 38\\nvalue = [38, 0]'),\n",
       " Text(0.0712166172106825, 0.7105263157894737, 'X[6] <= 0.501\\nentropy = 0.622\\nsamples = 84\\nvalue = [71, 13]'),\n",
       " Text(0.04154302670623145, 0.6578947368421053, 'X[2] <= 53.0\\nentropy = 0.402\\nsamples = 50\\nvalue = [46, 4]'),\n",
       " Text(0.02967359050445104, 0.6052631578947368, 'entropy = 0.0\\nsamples = 3\\nvalue = [0, 3]'),\n",
       " Text(0.05341246290801187, 0.6052631578947368, 'X[3] <= 8.0\\nentropy = 0.149\\nsamples = 47\\nvalue = [46, 1]'),\n",
       " Text(0.04154302670623145, 0.5526315789473685, 'X[7] <= 23.5\\nentropy = 0.65\\nsamples = 6\\nvalue = [5, 1]'),\n",
       " Text(0.02967359050445104, 0.5, 'entropy = 0.0\\nsamples = 1\\nvalue = [0, 1]'),\n",
       " Text(0.05341246290801187, 0.5, 'entropy = 0.0\\nsamples = 5\\nvalue = [5, 0]'),\n",
       " Text(0.06528189910979229, 0.5526315789473685, 'entropy = 0.0\\nsamples = 41\\nvalue = [41, 0]'),\n",
       " Text(0.10089020771513353, 0.6578947368421053, 'X[2] <= 61.0\\nentropy = 0.834\\nsamples = 34\\nvalue = [25, 9]'),\n",
       " Text(0.08902077151335312, 0.6052631578947368, 'entropy = 0.0\\nsamples = 7\\nvalue = [7, 0]'),\n",
       " Text(0.11275964391691394, 0.6052631578947368, 'X[2] <= 67.0\\nentropy = 0.918\\nsamples = 27\\nvalue = [18, 9]'),\n",
       " Text(0.08902077151335312, 0.5526315789473685, 'X[1] <= 98.5\\nentropy = 0.863\\nsamples = 7\\nvalue = [2, 5]'),\n",
       " Text(0.0771513353115727, 0.5, 'X[4] <= 130.0\\nentropy = 0.918\\nsamples = 3\\nvalue = [2, 1]'),\n",
       " Text(0.06528189910979229, 0.4473684210526316, 'entropy = 0.0\\nsamples = 2\\nvalue = [2, 0]'),\n",
       " Text(0.08902077151335312, 0.4473684210526316, 'entropy = 0.0\\nsamples = 1\\nvalue = [0, 1]'),\n",
       " Text(0.10089020771513353, 0.5, 'entropy = 0.0\\nsamples = 4\\nvalue = [0, 4]'),\n",
       " Text(0.13649851632047477, 0.5526315789473685, 'X[4] <= 75.5\\nentropy = 0.722\\nsamples = 20\\nvalue = [16, 4]'),\n",
       " Text(0.12462908011869436, 0.5, 'X[6] <= 0.548\\nentropy = 0.918\\nsamples = 12\\nvalue = [8, 4]'),\n",
       " Text(0.11275964391691394, 0.4473684210526316, 'entropy = 0.0\\nsamples = 2\\nvalue = [0, 2]'),\n",
       " Text(0.13649851632047477, 0.4473684210526316, 'X[4] <= 35.0\\nentropy = 0.722\\nsamples = 10\\nvalue = [8, 2]'),\n",
       " Text(0.12462908011869436, 0.39473684210526316, 'X[1] <= 115.5\\nentropy = 0.503\\nsamples = 9\\nvalue = [8, 1]'),\n",
       " Text(0.11275964391691394, 0.34210526315789475, 'entropy = 0.0\\nsamples = 7\\nvalue = [7, 0]'),\n",
       " Text(0.13649851632047477, 0.34210526315789475, 'X[6] <= 0.799\\nentropy = 1.0\\nsamples = 2\\nvalue = [1, 1]'),\n",
       " Text(0.12462908011869436, 0.2894736842105263, 'entropy = 0.0\\nsamples = 1\\nvalue = [0, 1]'),\n",
       " Text(0.14836795252225518, 0.2894736842105263, 'entropy = 0.0\\nsamples = 1\\nvalue = [1, 0]'),\n",
       " Text(0.14836795252225518, 0.39473684210526316, 'entropy = 0.0\\nsamples = 1\\nvalue = [0, 1]'),\n",
       " Text(0.14836795252225518, 0.5, 'entropy = 0.0\\nsamples = 8\\nvalue = [8, 0]'),\n",
       " Text(0.0830860534124629, 0.7631578947368421, 'entropy = 0.0\\nsamples = 3\\nvalue = [0, 3]'),\n",
       " Text(0.314540059347181, 0.8157894736842105, 'X[1] <= 100.5\\nentropy = 0.971\\nsamples = 125\\nvalue = [75, 50]'),\n",
       " Text(0.2433234421364985, 0.7631578947368421, 'X[3] <= 32.5\\nentropy = 0.702\\nsamples = 42\\nvalue = [34, 8]'),\n",
       " Text(0.2314540059347181, 0.7105263157894737, 'X[3] <= 31.5\\nentropy = 0.837\\nsamples = 30\\nvalue = [22, 8]'),\n",
       " Text(0.2195845697329377, 0.6578947368421053, 'X[0] <= 11.0\\nentropy = 0.75\\nsamples = 28\\nvalue = [22, 6]'),\n",
       " Text(0.19584569732937684, 0.6052631578947368, 'X[0] <= 5.5\\nentropy = 0.544\\nsamples = 24\\nvalue = [21, 3]'),\n",
       " Text(0.18397626112759644, 0.5526315789473685, 'X[6] <= 0.182\\nentropy = 0.811\\nsamples = 12\\nvalue = [9, 3]'),\n",
       " Text(0.17210682492581603, 0.5, 'entropy = 0.0\\nsamples = 1\\nvalue = [0, 1]'),\n",
       " Text(0.19584569732937684, 0.5, 'X[7] <= 47.5\\nentropy = 0.684\\nsamples = 11\\nvalue = [9, 2]'),\n",
       " Text(0.18397626112759644, 0.4473684210526316, 'X[6] <= 1.11\\nentropy = 0.469\\nsamples = 10\\nvalue = [9, 1]'),\n",
       " Text(0.17210682492581603, 0.39473684210526316, 'entropy = 0.0\\nsamples = 9\\nvalue = [9, 0]'),\n",
       " Text(0.19584569732937684, 0.39473684210526316, 'entropy = 0.0\\nsamples = 1\\nvalue = [0, 1]'),\n",
       " Text(0.20771513353115728, 0.4473684210526316, 'entropy = 0.0\\nsamples = 1\\nvalue = [0, 1]'),\n",
       " Text(0.20771513353115728, 0.5526315789473685, 'entropy = 0.0\\nsamples = 12\\nvalue = [12, 0]'),\n",
       " Text(0.2433234421364985, 0.6052631578947368, 'X[1] <= 80.0\\nentropy = 0.811\\nsamples = 4\\nvalue = [1, 3]'),\n",
       " Text(0.2314540059347181, 0.5526315789473685, 'entropy = 0.0\\nsamples = 1\\nvalue = [1, 0]'),\n",
       " Text(0.2551928783382789, 0.5526315789473685, 'entropy = 0.0\\nsamples = 3\\nvalue = [0, 3]'),\n",
       " Text(0.2433234421364985, 0.6578947368421053, 'entropy = 0.0\\nsamples = 2\\nvalue = [0, 2]'),\n",
       " Text(0.2551928783382789, 0.7105263157894737, 'entropy = 0.0\\nsamples = 12\\nvalue = [12, 0]'),\n",
       " Text(0.3857566765578635, 0.7631578947368421, 'X[6] <= 0.561\\nentropy = 1.0\\nsamples = 83\\nvalue = [41, 42]'),\n",
       " Text(0.33827893175074186, 0.7105263157894737, 'X[2] <= 84.0\\nentropy = 0.965\\nsamples = 59\\nvalue = [36, 23]'),\n",
       " Text(0.314540059347181, 0.6578947368421053, 'X[3] <= 39.5\\nentropy = 0.997\\nsamples = 47\\nvalue = [25, 22]'),\n",
       " Text(0.3026706231454006, 0.6052631578947368, 'X[6] <= 0.387\\nentropy = 0.998\\nsamples = 42\\nvalue = [20, 22]'),\n",
       " Text(0.2789317507418398, 0.5526315789473685, 'X[6] <= 0.288\\nentropy = 0.954\\nsamples = 32\\nvalue = [12, 20]'),\n",
       " Text(0.26706231454005935, 0.5, 'X[0] <= 3.5\\nentropy = 0.999\\nsamples = 25\\nvalue = [12, 13]'),\n",
       " Text(0.2551928783382789, 0.4473684210526316, 'entropy = 0.0\\nsamples = 4\\nvalue = [4, 0]'),\n",
       " Text(0.2789317507418398, 0.4473684210526316, 'X[7] <= 45.0\\nentropy = 0.959\\nsamples = 21\\nvalue = [8, 13]'),\n",
       " Text(0.2551928783382789, 0.39473684210526316, 'X[6] <= 0.138\\nentropy = 0.811\\nsamples = 16\\nvalue = [4, 12]'),\n",
       " Text(0.2433234421364985, 0.34210526315789475, 'entropy = 0.0\\nsamples = 2\\nvalue = [2, 0]'),\n",
       " Text(0.26706231454005935, 0.34210526315789475, 'X[1] <= 121.0\\nentropy = 0.592\\nsamples = 14\\nvalue = [2, 12]'),\n",
       " Text(0.2551928783382789, 0.2894736842105263, 'entropy = 0.0\\nsamples = 9\\nvalue = [0, 9]'),\n",
       " Text(0.2789317507418398, 0.2894736842105263, 'X[6] <= 0.242\\nentropy = 0.971\\nsamples = 5\\nvalue = [2, 3]'),\n",
       " Text(0.26706231454005935, 0.23684210526315788, 'entropy = 0.0\\nsamples = 3\\nvalue = [0, 3]'),\n",
       " Text(0.29080118694362017, 0.23684210526315788, 'entropy = 0.0\\nsamples = 2\\nvalue = [2, 0]'),\n",
       " Text(0.3026706231454006, 0.39473684210526316, 'X[1] <= 123.0\\nentropy = 0.722\\nsamples = 5\\nvalue = [4, 1]'),\n",
       " Text(0.29080118694362017, 0.34210526315789475, 'entropy = 0.0\\nsamples = 4\\nvalue = [4, 0]'),\n",
       " Text(0.314540059347181, 0.34210526315789475, 'entropy = 0.0\\nsamples = 1\\nvalue = [0, 1]'),\n",
       " Text(0.29080118694362017, 0.5, 'entropy = 0.0\\nsamples = 7\\nvalue = [0, 7]'),\n",
       " Text(0.3264094955489614, 0.5526315789473685, 'X[1] <= 117.5\\nentropy = 0.722\\nsamples = 10\\nvalue = [8, 2]'),\n",
       " Text(0.314540059347181, 0.5, 'X[7] <= 31.0\\nentropy = 1.0\\nsamples = 4\\nvalue = [2, 2]'),\n",
       " Text(0.3026706231454006, 0.4473684210526316, 'entropy = 0.0\\nsamples = 2\\nvalue = [2, 0]'),\n",
       " Text(0.3264094955489614, 0.4473684210526316, 'entropy = 0.0\\nsamples = 2\\nvalue = [0, 2]'),\n",
       " Text(0.33827893175074186, 0.5, 'entropy = 0.0\\nsamples = 6\\nvalue = [6, 0]'),\n",
       " Text(0.3264094955489614, 0.6052631578947368, 'entropy = 0.0\\nsamples = 5\\nvalue = [5, 0]'),\n",
       " Text(0.3620178041543027, 0.6578947368421053, 'X[5] <= 41.25\\nentropy = 0.414\\nsamples = 12\\nvalue = [11, 1]'),\n",
       " Text(0.35014836795252224, 0.6052631578947368, 'entropy = 0.0\\nsamples = 11\\nvalue = [11, 0]'),\n",
       " Text(0.37388724035608306, 0.6052631578947368, 'entropy = 0.0\\nsamples = 1\\nvalue = [0, 1]'),\n",
       " Text(0.4332344213649852, 0.7105263157894737, 'X[0] <= 5.0\\nentropy = 0.738\\nsamples = 24\\nvalue = [5, 19]'),\n",
       " Text(0.42136498516320475, 0.6578947368421053, 'X[2] <= 69.0\\nentropy = 0.994\\nsamples = 11\\nvalue = [5, 6]'),\n",
       " Text(0.39762611275964393, 0.6052631578947368, 'X[5] <= 34.45\\nentropy = 0.722\\nsamples = 5\\nvalue = [4, 1]'),\n",
       " Text(0.3857566765578635, 0.5526315789473685, 'entropy = 0.0\\nsamples = 4\\nvalue = [4, 0]'),\n",
       " Text(0.4094955489614243, 0.5526315789473685, 'entropy = 0.0\\nsamples = 1\\nvalue = [0, 1]'),\n",
       " Text(0.44510385756676557, 0.6052631578947368, 'X[3] <= 47.5\\nentropy = 0.65\\nsamples = 6\\nvalue = [1, 5]'),\n",
       " Text(0.4332344213649852, 0.5526315789473685, 'entropy = 0.0\\nsamples = 5\\nvalue = [0, 5]'),\n",
       " Text(0.456973293768546, 0.5526315789473685, 'entropy = 0.0\\nsamples = 1\\nvalue = [1, 0]'),\n",
       " Text(0.44510385756676557, 0.6578947368421053, 'entropy = 0.0\\nsamples = 13\\nvalue = [0, 13]'),\n",
       " Text(0.8227930267062314, 0.9210526315789473, 'X[1] <= 165.5\\nentropy = 0.948\\nsamples = 224\\nvalue = [82, 142]'),\n",
       " Text(0.6693249258160238, 0.868421052631579, 'X[5] <= 27.85\\nentropy = 0.997\\nsamples = 158\\nvalue = [74, 84]'),\n",
       " Text(0.5281899109792285, 0.8157894736842105, 'X[0] <= 1.5\\nentropy = 0.764\\nsamples = 36\\nvalue = [28, 8]'),\n",
       " Text(0.516320474777448, 0.7631578947368421, 'entropy = 0.0\\nsamples = 10\\nvalue = [10, 0]'),\n",
       " Text(0.5400593471810089, 0.7631578947368421, 'X[1] <= 145.5\\nentropy = 0.89\\nsamples = 26\\nvalue = [18, 8]'),\n",
       " Text(0.516320474777448, 0.7105263157894737, 'X[2] <= 73.0\\nentropy = 0.65\\nsamples = 18\\nvalue = [15, 3]'),\n",
       " Text(0.5044510385756676, 0.6578947368421053, 'X[0] <= 5.0\\nentropy = 0.954\\nsamples = 8\\nvalue = [5, 3]'),\n",
       " Text(0.49258160237388726, 0.6052631578947368, 'X[6] <= 0.296\\nentropy = 1.0\\nsamples = 6\\nvalue = [3, 3]'),\n",
       " Text(0.4807121661721068, 0.5526315789473685, 'entropy = 0.0\\nsamples = 2\\nvalue = [0, 2]'),\n",
       " Text(0.5044510385756676, 0.5526315789473685, 'X[2] <= 56.0\\nentropy = 0.811\\nsamples = 4\\nvalue = [3, 1]'),\n",
       " Text(0.49258160237388726, 0.5, 'entropy = 0.0\\nsamples = 1\\nvalue = [0, 1]'),\n",
       " Text(0.516320474777448, 0.5, 'entropy = 0.0\\nsamples = 3\\nvalue = [3, 0]'),\n",
       " Text(0.516320474777448, 0.6052631578947368, 'entropy = 0.0\\nsamples = 2\\nvalue = [2, 0]'),\n",
       " Text(0.5281899109792285, 0.6578947368421053, 'entropy = 0.0\\nsamples = 10\\nvalue = [10, 0]'),\n",
       " Text(0.5637982195845698, 0.7105263157894737, 'X[4] <= 14.5\\nentropy = 0.954\\nsamples = 8\\nvalue = [3, 5]'),\n",
       " Text(0.5519287833827893, 0.6578947368421053, 'X[2] <= 63.0\\nentropy = 1.0\\nsamples = 6\\nvalue = [3, 3]'),\n",
       " Text(0.5400593471810089, 0.6052631578947368, 'entropy = 0.0\\nsamples = 2\\nvalue = [0, 2]'),\n",
       " Text(0.5637982195845698, 0.6052631578947368, 'X[2] <= 85.0\\nentropy = 0.811\\nsamples = 4\\nvalue = [3, 1]'),\n",
       " Text(0.5519287833827893, 0.5526315789473685, 'entropy = 0.0\\nsamples = 3\\nvalue = [3, 0]'),\n",
       " Text(0.5756676557863502, 0.5526315789473685, 'entropy = 0.0\\nsamples = 1\\nvalue = [0, 1]'),\n",
       " Text(0.5756676557863502, 0.6578947368421053, 'entropy = 0.0\\nsamples = 2\\nvalue = [0, 2]'),\n",
       " Text(0.810459940652819, 0.8157894736842105, 'X[6] <= 0.726\\nentropy = 0.956\\nsamples = 122\\nvalue = [46, 76]'),\n",
       " Text(0.7514836795252225, 0.7631578947368421, 'X[0] <= 7.5\\nentropy = 0.992\\nsamples = 96\\nvalue = [43, 53]'),\n",
       " Text(0.6928783382789317, 0.7105263157894737, 'X[1] <= 163.0\\nentropy = 0.999\\nsamples = 77\\nvalue = [40, 37]'),\n",
       " Text(0.6810089020771514, 0.6578947368421053, 'X[5] <= 47.2\\nentropy = 1.0\\nsamples = 73\\nvalue = [36, 37]'),\n",
       " Text(0.6691394658753709, 0.6052631578947368, 'X[7] <= 42.5\\nentropy = 0.998\\nsamples = 68\\nvalue = [36, 32]'),\n",
       " Text(0.599406528189911, 0.5526315789473685, 'X[2] <= 55.0\\nentropy = 0.958\\nsamples = 50\\nvalue = [31, 19]'),\n",
       " Text(0.5608308605341247, 0.5, 'X[7] <= 40.0\\nentropy = 0.65\\nsamples = 6\\nvalue = [1, 5]'),\n",
       " Text(0.5489614243323442, 0.4473684210526316, 'entropy = 0.0\\nsamples = 5\\nvalue = [0, 5]'),\n",
       " Text(0.5727002967359051, 0.4473684210526316, 'entropy = 0.0\\nsamples = 1\\nvalue = [1, 0]'),\n",
       " Text(0.6379821958456974, 0.5, 'X[6] <= 0.285\\nentropy = 0.902\\nsamples = 44\\nvalue = [30, 14]'),\n",
       " Text(0.5964391691394659, 0.4473684210526316, 'X[3] <= 39.5\\nentropy = 0.391\\nsamples = 13\\nvalue = [12, 1]'),\n",
       " Text(0.5845697329376854, 0.39473684210526316, 'entropy = 0.0\\nsamples = 11\\nvalue = [11, 0]'),\n",
       " Text(0.6083086053412463, 0.39473684210526316, 'X[7] <= 24.0\\nentropy = 1.0\\nsamples = 2\\nvalue = [1, 1]'),\n",
       " Text(0.5964391691394659, 0.34210526315789475, 'entropy = 0.0\\nsamples = 1\\nvalue = [0, 1]'),\n",
       " Text(0.6201780415430267, 0.34210526315789475, 'entropy = 0.0\\nsamples = 1\\nvalue = [1, 0]'),\n",
       " Text(0.6795252225519288, 0.4473684210526316, 'X[6] <= 0.559\\nentropy = 0.981\\nsamples = 31\\nvalue = [18, 13]'),\n",
       " Text(0.655786350148368, 0.39473684210526316, 'X[1] <= 135.5\\nentropy = 0.985\\nsamples = 21\\nvalue = [9, 12]'),\n",
       " Text(0.6439169139465876, 0.34210526315789475, 'entropy = 0.0\\nsamples = 4\\nvalue = [0, 4]'),\n",
       " Text(0.6676557863501483, 0.34210526315789475, 'X[3] <= 30.5\\nentropy = 0.998\\nsamples = 17\\nvalue = [9, 8]'),\n",
       " Text(0.655786350148368, 0.2894736842105263, 'entropy = 0.0\\nsamples = 4\\nvalue = [4, 0]'),\n",
       " Text(0.6795252225519288, 0.2894736842105263, 'X[3] <= 48.0\\nentropy = 0.961\\nsamples = 13\\nvalue = [5, 8]'),\n",
       " Text(0.6676557863501483, 0.23684210526315788, 'X[7] <= 25.5\\nentropy = 0.845\\nsamples = 11\\nvalue = [3, 8]'),\n",
       " Text(0.655786350148368, 0.18421052631578946, 'entropy = 0.0\\nsamples = 4\\nvalue = [0, 4]'),\n",
       " Text(0.6795252225519288, 0.18421052631578946, 'X[5] <= 38.35\\nentropy = 0.985\\nsamples = 7\\nvalue = [3, 4]'),\n",
       " Text(0.6676557863501483, 0.13157894736842105, 'X[6] <= 0.364\\nentropy = 0.971\\nsamples = 5\\nvalue = [3, 2]'),\n",
       " Text(0.655786350148368, 0.07894736842105263, 'X[3] <= 36.5\\nentropy = 0.918\\nsamples = 3\\nvalue = [1, 2]'),\n",
       " Text(0.6439169139465876, 0.02631578947368421, 'entropy = 0.0\\nsamples = 1\\nvalue = [1, 0]'),\n",
       " Text(0.6676557863501483, 0.02631578947368421, 'entropy = 0.0\\nsamples = 2\\nvalue = [0, 2]'),\n",
       " Text(0.6795252225519288, 0.07894736842105263, 'entropy = 0.0\\nsamples = 2\\nvalue = [2, 0]'),\n",
       " Text(0.6913946587537092, 0.13157894736842105, 'entropy = 0.0\\nsamples = 2\\nvalue = [0, 2]'),\n",
       " Text(0.6913946587537092, 0.23684210526315788, 'entropy = 0.0\\nsamples = 2\\nvalue = [2, 0]'),\n",
       " Text(0.7032640949554896, 0.39473684210526316, 'X[2] <= 85.0\\nentropy = 0.469\\nsamples = 10\\nvalue = [9, 1]'),\n",
       " Text(0.6913946587537092, 0.34210526315789475, 'entropy = 0.0\\nsamples = 9\\nvalue = [9, 0]'),\n",
       " Text(0.7151335311572701, 0.34210526315789475, 'entropy = 0.0\\nsamples = 1\\nvalue = [0, 1]'),\n",
       " Text(0.7388724035608308, 0.5526315789473685, 'X[7] <= 59.5\\nentropy = 0.852\\nsamples = 18\\nvalue = [5, 13]'),\n",
       " Text(0.7151335311572701, 0.5, 'X[1] <= 128.5\\nentropy = 0.414\\nsamples = 12\\nvalue = [1, 11]'),\n",
       " Text(0.7032640949554896, 0.4473684210526316, 'entropy = 0.0\\nsamples = 1\\nvalue = [1, 0]'),\n",
       " Text(0.7270029673590505, 0.4473684210526316, 'entropy = 0.0\\nsamples = 11\\nvalue = [0, 11]'),\n",
       " Text(0.7626112759643917, 0.5, 'X[0] <= 4.5\\nentropy = 0.918\\nsamples = 6\\nvalue = [4, 2]'),\n",
       " Text(0.7507418397626113, 0.4473684210526316, 'X[6] <= 0.36\\nentropy = 0.918\\nsamples = 3\\nvalue = [1, 2]'),\n",
       " Text(0.7388724035608308, 0.39473684210526316, 'entropy = 0.0\\nsamples = 1\\nvalue = [1, 0]'),\n",
       " Text(0.7626112759643917, 0.39473684210526316, 'entropy = 0.0\\nsamples = 2\\nvalue = [0, 2]'),\n",
       " Text(0.7744807121661721, 0.4473684210526316, 'entropy = 0.0\\nsamples = 3\\nvalue = [3, 0]'),\n",
       " Text(0.6928783382789317, 0.6052631578947368, 'entropy = 0.0\\nsamples = 5\\nvalue = [0, 5]'),\n",
       " Text(0.7047477744807121, 0.6578947368421053, 'entropy = 0.0\\nsamples = 4\\nvalue = [4, 0]'),\n",
       " Text(0.8100890207715133, 0.7105263157894737, 'X[6] <= 0.431\\nentropy = 0.629\\nsamples = 19\\nvalue = [3, 16]'),\n",
       " Text(0.798219584569733, 0.6578947368421053, 'X[7] <= 37.0\\nentropy = 0.881\\nsamples = 10\\nvalue = [3, 7]'),\n",
       " Text(0.7863501483679525, 0.6052631578947368, 'entropy = 0.0\\nsamples = 1\\nvalue = [1, 0]'),\n",
       " Text(0.8100890207715133, 0.6052631578947368, 'X[1] <= 131.0\\nentropy = 0.764\\nsamples = 9\\nvalue = [2, 7]'),\n",
       " Text(0.798219584569733, 0.5526315789473685, 'entropy = 0.0\\nsamples = 1\\nvalue = [1, 0]'),\n",
       " Text(0.8219584569732937, 0.5526315789473685, 'X[5] <= 31.85\\nentropy = 0.544\\nsamples = 8\\nvalue = [1, 7]'),\n",
       " Text(0.8100890207715133, 0.5, 'X[2] <= 81.0\\nentropy = 0.918\\nsamples = 3\\nvalue = [1, 2]'),\n",
       " Text(0.798219584569733, 0.4473684210526316, 'entropy = 0.0\\nsamples = 1\\nvalue = [1, 0]'),\n",
       " Text(0.8219584569732937, 0.4473684210526316, 'entropy = 0.0\\nsamples = 2\\nvalue = [0, 2]'),\n",
       " Text(0.8338278931750742, 0.5, 'entropy = 0.0\\nsamples = 5\\nvalue = [0, 5]'),\n",
       " Text(0.8219584569732937, 0.6578947368421053, 'entropy = 0.0\\nsamples = 9\\nvalue = [0, 9]'),\n",
       " Text(0.8694362017804155, 0.7631578947368421, 'X[4] <= 290.5\\nentropy = 0.516\\nsamples = 26\\nvalue = [3, 23]'),\n",
       " Text(0.857566765578635, 0.7105263157894737, 'X[6] <= 1.586\\nentropy = 0.25\\nsamples = 24\\nvalue = [1, 23]'),\n",
       " Text(0.8456973293768546, 0.6578947368421053, 'entropy = 0.0\\nsamples = 22\\nvalue = [0, 22]'),\n",
       " Text(0.8694362017804155, 0.6578947368421053, 'X[4] <= 84.0\\nentropy = 1.0\\nsamples = 2\\nvalue = [1, 1]'),\n",
       " Text(0.857566765578635, 0.6052631578947368, 'entropy = 0.0\\nsamples = 1\\nvalue = [1, 0]'),\n",
       " Text(0.8813056379821959, 0.6052631578947368, 'entropy = 0.0\\nsamples = 1\\nvalue = [0, 1]'),\n",
       " Text(0.8813056379821959, 0.7105263157894737, 'entropy = 0.0\\nsamples = 2\\nvalue = [2, 0]'),\n",
       " Text(0.9762611275964391, 0.868421052631579, 'X[7] <= 66.5\\nentropy = 0.533\\nsamples = 66\\nvalue = [8, 58]'),\n",
       " Text(0.9643916913946587, 0.8157894736842105, 'X[6] <= 2.233\\nentropy = 0.493\\nsamples = 65\\nvalue = [7, 58]'),\n",
       " Text(0.9525222551928784, 0.7631578947368421, 'X[3] <= 32.5\\nentropy = 0.449\\nsamples = 64\\nvalue = [6, 58]'),\n",
       " Text(0.9406528189910979, 0.7105263157894737, 'X[6] <= 1.337\\nentropy = 0.619\\nsamples = 39\\nvalue = [6, 33]'),\n",
       " Text(0.9287833827893175, 0.6578947368421053, 'X[3] <= 30.5\\nentropy = 0.562\\nsamples = 38\\nvalue = [5, 33]'),\n",
       " Text(0.9050445103857567, 0.6052631578947368, 'X[6] <= 0.307\\nentropy = 0.431\\nsamples = 34\\nvalue = [3, 31]'),\n",
       " Text(0.8931750741839762, 0.5526315789473685, 'X[7] <= 39.0\\nentropy = 0.881\\nsamples = 10\\nvalue = [3, 7]'),\n",
       " Text(0.8813056379821959, 0.5, 'X[5] <= 30.4\\nentropy = 0.971\\nsamples = 5\\nvalue = [3, 2]'),\n",
       " Text(0.8694362017804155, 0.4473684210526316, 'entropy = 0.0\\nsamples = 2\\nvalue = [0, 2]'),\n",
       " Text(0.8931750741839762, 0.4473684210526316, 'entropy = 0.0\\nsamples = 3\\nvalue = [3, 0]'),\n",
       " Text(0.9050445103857567, 0.5, 'entropy = 0.0\\nsamples = 5\\nvalue = [0, 5]'),\n",
       " Text(0.9169139465875371, 0.5526315789473685, 'entropy = 0.0\\nsamples = 24\\nvalue = [0, 24]'),\n",
       " Text(0.9525222551928784, 0.6052631578947368, 'X[6] <= 0.591\\nentropy = 1.0\\nsamples = 4\\nvalue = [2, 2]'),\n",
       " Text(0.9406528189910979, 0.5526315789473685, 'entropy = 0.0\\nsamples = 2\\nvalue = [0, 2]'),\n",
       " Text(0.9643916913946587, 0.5526315789473685, 'entropy = 0.0\\nsamples = 2\\nvalue = [2, 0]'),\n",
       " Text(0.9525222551928784, 0.6578947368421053, 'entropy = 0.0\\nsamples = 1\\nvalue = [1, 0]'),\n",
       " Text(0.9643916913946587, 0.7105263157894737, 'entropy = 0.0\\nsamples = 25\\nvalue = [0, 25]'),\n",
       " Text(0.9762611275964391, 0.7631578947368421, 'entropy = 0.0\\nsamples = 1\\nvalue = [1, 0]'),\n",
       " Text(0.9881305637982196, 0.8157894736842105, 'entropy = 0.0\\nsamples = 1\\nvalue = [1, 0]')]"
      ]
     },
     "execution_count": 21,
     "metadata": {},
     "output_type": "execute_result"
    },
    {
     "data": {
      "image/png": "[encoded data removed]",
      "text/plain": [
       "<Figure size 640x480 with 1 Axes>"
      ]
     },
     "metadata": {},
     "output_type": "display_data"
    }
   ],
   "source": [
    "from sklearn import tree\n",
    "tree.plot_tree(dt_clf)"
   ]
  },
  {
   "cell_type": "code",
   "execution_count": 22,
   "id": "01ddad7d",
   "metadata": {},
   "outputs": [
    {
     "data": {
      "text/plain": [
       "[Text(0.468518175074184, 0.9736842105263158, 'X[1] <= 127.5\\nentropy = 0.946\\nsamples = 576\\nvalue = [366, 210]'),\n",
       " Text(0.1142433234421365, 0.9210526315789473, 'X[5] <= 26.45\\nentropy = 0.708\\nsamples = 352\\nvalue = [284, 68]'),\n",
       " Text(0.03560830860534125, 0.868421052631579, 'X[5] <= 9.1\\nentropy = 0.139\\nsamples = 102\\nvalue = [100, 2]'),\n",
       " Text(0.02373887240356083, 0.8157894736842105, 'X[0] <= 7.5\\nentropy = 0.764\\nsamples = 9\\nvalue = [7, 2]'),\n",
       " Text(0.011869436201780416, 0.7631578947368421, 'entropy = 0.0\\nsamples = 7\\nvalue = [7, 0]'),\n",
       " Text(0.03560830860534125, 0.7631578947368421, 'entropy = 0.0\\nsamples = 2\\nvalue = [0, 2]'),\n",
       " Text(0.04747774480712166, 0.8157894736842105, 'entropy = 0.0\\nsamples = 93\\nvalue = [93, 0]'),\n",
       " Text(0.19287833827893175, 0.868421052631579, 'X[7] <= 28.5\\nentropy = 0.833\\nsamples = 250\\nvalue = [184, 66]'),\n",
       " Text(0.0712166172106825, 0.8157894736842105, 'X[5] <= 45.4\\nentropy = 0.552\\nsamples = 125\\nvalue = [109, 16]'),\n",
       " Text(0.05934718100890208, 0.7631578947368421, 'X[5] <= 30.9\\nentropy = 0.489\\nsamples = 122\\nvalue = [109, 13]'),\n",
       " Text(0.04747774480712166, 0.7105263157894737, 'entropy = 0.0\\nsamples = 38\\nvalue = [38, 0]'),\n",
       " Text(0.0712166172106825, 0.7105263157894737, 'X[6] <= 0.501\\nentropy = 0.622\\nsamples = 84\\nvalue = [71, 13]'),\n",
       " Text(0.04154302670623145, 0.6578947368421053, 'X[2] <= 53.0\\nentropy = 0.402\\nsamples = 50\\nvalue = [46, 4]'),\n",
       " Text(0.02967359050445104, 0.6052631578947368, 'entropy = 0.0\\nsamples = 3\\nvalue = [0, 3]'),\n",
       " Text(0.05341246290801187, 0.6052631578947368, 'X[3] <= 8.0\\nentropy = 0.149\\nsamples = 47\\nvalue = [46, 1]'),\n",
       " Text(0.04154302670623145, 0.5526315789473685, 'X[7] <= 23.5\\nentropy = 0.65\\nsamples = 6\\nvalue = [5, 1]'),\n",
       " Text(0.02967359050445104, 0.5, 'entropy = 0.0\\nsamples = 1\\nvalue = [0, 1]'),\n",
       " Text(0.05341246290801187, 0.5, 'entropy = 0.0\\nsamples = 5\\nvalue = [5, 0]'),\n",
       " Text(0.06528189910979229, 0.5526315789473685, 'entropy = 0.0\\nsamples = 41\\nvalue = [41, 0]'),\n",
       " Text(0.10089020771513353, 0.6578947368421053, 'X[2] <= 61.0\\nentropy = 0.834\\nsamples = 34\\nvalue = [25, 9]'),\n",
       " Text(0.08902077151335312, 0.6052631578947368, 'entropy = 0.0\\nsamples = 7\\nvalue = [7, 0]'),\n",
       " Text(0.11275964391691394, 0.6052631578947368, 'X[2] <= 67.0\\nentropy = 0.918\\nsamples = 27\\nvalue = [18, 9]'),\n",
       " Text(0.08902077151335312, 0.5526315789473685, 'X[1] <= 98.5\\nentropy = 0.863\\nsamples = 7\\nvalue = [2, 5]'),\n",
       " Text(0.0771513353115727, 0.5, 'X[4] <= 130.0\\nentropy = 0.918\\nsamples = 3\\nvalue = [2, 1]'),\n",
       " Text(0.06528189910979229, 0.4473684210526316, 'entropy = 0.0\\nsamples = 2\\nvalue = [2, 0]'),\n",
       " Text(0.08902077151335312, 0.4473684210526316, 'entropy = 0.0\\nsamples = 1\\nvalue = [0, 1]'),\n",
       " Text(0.10089020771513353, 0.5, 'entropy = 0.0\\nsamples = 4\\nvalue = [0, 4]'),\n",
       " Text(0.13649851632047477, 0.5526315789473685, 'X[4] <= 75.5\\nentropy = 0.722\\nsamples = 20\\nvalue = [16, 4]'),\n",
       " Text(0.12462908011869436, 0.5, 'X[6] <= 0.548\\nentropy = 0.918\\nsamples = 12\\nvalue = [8, 4]'),\n",
       " Text(0.11275964391691394, 0.4473684210526316, 'entropy = 0.0\\nsamples = 2\\nvalue = [0, 2]'),\n",
       " Text(0.13649851632047477, 0.4473684210526316, 'X[4] <= 35.0\\nentropy = 0.722\\nsamples = 10\\nvalue = [8, 2]'),\n",
       " Text(0.12462908011869436, 0.39473684210526316, 'X[1] <= 115.5\\nentropy = 0.503\\nsamples = 9\\nvalue = [8, 1]'),\n",
       " Text(0.11275964391691394, 0.34210526315789475, 'entropy = 0.0\\nsamples = 7\\nvalue = [7, 0]'),\n",
       " Text(0.13649851632047477, 0.34210526315789475, 'X[6] <= 0.799\\nentropy = 1.0\\nsamples = 2\\nvalue = [1, 1]'),\n",
       " Text(0.12462908011869436, 0.2894736842105263, 'entropy = 0.0\\nsamples = 1\\nvalue = [0, 1]'),\n",
       " Text(0.14836795252225518, 0.2894736842105263, 'entropy = 0.0\\nsamples = 1\\nvalue = [1, 0]'),\n",
       " Text(0.14836795252225518, 0.39473684210526316, 'entropy = 0.0\\nsamples = 1\\nvalue = [0, 1]'),\n",
       " Text(0.14836795252225518, 0.5, 'entropy = 0.0\\nsamples = 8\\nvalue = [8, 0]'),\n",
       " Text(0.0830860534124629, 0.7631578947368421, 'entropy = 0.0\\nsamples = 3\\nvalue = [0, 3]'),\n",
       " Text(0.314540059347181, 0.8157894736842105, 'X[1] <= 100.5\\nentropy = 0.971\\nsamples = 125\\nvalue = [75, 50]'),\n",
       " Text(0.2433234421364985, 0.7631578947368421, 'X[3] <= 32.5\\nentropy = 0.702\\nsamples = 42\\nvalue = [34, 8]'),\n",
       " Text(0.2314540059347181, 0.7105263157894737, 'X[3] <= 31.5\\nentropy = 0.837\\nsamples = 30\\nvalue = [22, 8]'),\n",
       " Text(0.2195845697329377, 0.6578947368421053, 'X[0] <= 11.0\\nentropy = 0.75\\nsamples = 28\\nvalue = [22, 6]'),\n",
       " Text(0.19584569732937684, 0.6052631578947368, 'X[0] <= 5.5\\nentropy = 0.544\\nsamples = 24\\nvalue = [21, 3]'),\n",
       " Text(0.18397626112759644, 0.5526315789473685, 'X[6] <= 0.182\\nentropy = 0.811\\nsamples = 12\\nvalue = [9, 3]'),\n",
       " Text(0.17210682492581603, 0.5, 'entropy = 0.0\\nsamples = 1\\nvalue = [0, 1]'),\n",
       " Text(0.19584569732937684, 0.5, 'X[7] <= 47.5\\nentropy = 0.684\\nsamples = 11\\nvalue = [9, 2]'),\n",
       " Text(0.18397626112759644, 0.4473684210526316, 'X[6] <= 1.11\\nentropy = 0.469\\nsamples = 10\\nvalue = [9, 1]'),\n",
       " Text(0.17210682492581603, 0.39473684210526316, 'entropy = 0.0\\nsamples = 9\\nvalue = [9, 0]'),\n",
       " Text(0.19584569732937684, 0.39473684210526316, 'entropy = 0.0\\nsamples = 1\\nvalue = [0, 1]'),\n",
       " Text(0.20771513353115728, 0.4473684210526316, 'entropy = 0.0\\nsamples = 1\\nvalue = [0, 1]'),\n",
       " Text(0.20771513353115728, 0.5526315789473685, 'entropy = 0.0\\nsamples = 12\\nvalue = [12, 0]'),\n",
       " Text(0.2433234421364985, 0.6052631578947368, 'X[1] <= 80.0\\nentropy = 0.811\\nsamples = 4\\nvalue = [1, 3]'),\n",
       " Text(0.2314540059347181, 0.5526315789473685, 'entropy = 0.0\\nsamples = 1\\nvalue = [1, 0]'),\n",
       " Text(0.2551928783382789, 0.5526315789473685, 'entropy = 0.0\\nsamples = 3\\nvalue = [0, 3]'),\n",
       " Text(0.2433234421364985, 0.6578947368421053, 'entropy = 0.0\\nsamples = 2\\nvalue = [0, 2]'),\n",
       " Text(0.2551928783382789, 0.7105263157894737, 'entropy = 0.0\\nsamples = 12\\nvalue = [12, 0]'),\n",
       " Text(0.3857566765578635, 0.7631578947368421, 'X[6] <= 0.561\\nentropy = 1.0\\nsamples = 83\\nvalue = [41, 42]'),\n",
       " Text(0.33827893175074186, 0.7105263157894737, 'X[2] <= 84.0\\nentropy = 0.965\\nsamples = 59\\nvalue = [36, 23]'),\n",
       " Text(0.314540059347181, 0.6578947368421053, 'X[3] <= 39.5\\nentropy = 0.997\\nsamples = 47\\nvalue = [25, 22]'),\n",
       " Text(0.3026706231454006, 0.6052631578947368, 'X[6] <= 0.387\\nentropy = 0.998\\nsamples = 42\\nvalue = [20, 22]'),\n",
       " Text(0.2789317507418398, 0.5526315789473685, 'X[6] <= 0.288\\nentropy = 0.954\\nsamples = 32\\nvalue = [12, 20]'),\n",
       " Text(0.26706231454005935, 0.5, 'X[0] <= 3.5\\nentropy = 0.999\\nsamples = 25\\nvalue = [12, 13]'),\n",
       " Text(0.2551928783382789, 0.4473684210526316, 'entropy = 0.0\\nsamples = 4\\nvalue = [4, 0]'),\n",
       " Text(0.2789317507418398, 0.4473684210526316, 'X[7] <= 45.0\\nentropy = 0.959\\nsamples = 21\\nvalue = [8, 13]'),\n",
       " Text(0.2551928783382789, 0.39473684210526316, 'X[6] <= 0.138\\nentropy = 0.811\\nsamples = 16\\nvalue = [4, 12]'),\n",
       " Text(0.2433234421364985, 0.34210526315789475, 'entropy = 0.0\\nsamples = 2\\nvalue = [2, 0]'),\n",
       " Text(0.26706231454005935, 0.34210526315789475, 'X[1] <= 121.0\\nentropy = 0.592\\nsamples = 14\\nvalue = [2, 12]'),\n",
       " Text(0.2551928783382789, 0.2894736842105263, 'entropy = 0.0\\nsamples = 9\\nvalue = [0, 9]'),\n",
       " Text(0.2789317507418398, 0.2894736842105263, 'X[6] <= 0.242\\nentropy = 0.971\\nsamples = 5\\nvalue = [2, 3]'),\n",
       " Text(0.26706231454005935, 0.23684210526315788, 'entropy = 0.0\\nsamples = 3\\nvalue = [0, 3]'),\n",
       " Text(0.29080118694362017, 0.23684210526315788, 'entropy = 0.0\\nsamples = 2\\nvalue = [2, 0]'),\n",
       " Text(0.3026706231454006, 0.39473684210526316, 'X[1] <= 123.0\\nentropy = 0.722\\nsamples = 5\\nvalue = [4, 1]'),\n",
       " Text(0.29080118694362017, 0.34210526315789475, 'entropy = 0.0\\nsamples = 4\\nvalue = [4, 0]'),\n",
       " Text(0.314540059347181, 0.34210526315789475, 'entropy = 0.0\\nsamples = 1\\nvalue = [0, 1]'),\n",
       " Text(0.29080118694362017, 0.5, 'entropy = 0.0\\nsamples = 7\\nvalue = [0, 7]'),\n",
       " Text(0.3264094955489614, 0.5526315789473685, 'X[1] <= 117.5\\nentropy = 0.722\\nsamples = 10\\nvalue = [8, 2]'),\n",
       " Text(0.314540059347181, 0.5, 'X[7] <= 31.0\\nentropy = 1.0\\nsamples = 4\\nvalue = [2, 2]'),\n",
       " Text(0.3026706231454006, 0.4473684210526316, 'entropy = 0.0\\nsamples = 2\\nvalue = [2, 0]'),\n",
       " Text(0.3264094955489614, 0.4473684210526316, 'entropy = 0.0\\nsamples = 2\\nvalue = [0, 2]'),\n",
       " Text(0.33827893175074186, 0.5, 'entropy = 0.0\\nsamples = 6\\nvalue = [6, 0]'),\n",
       " Text(0.3264094955489614, 0.6052631578947368, 'entropy = 0.0\\nsamples = 5\\nvalue = [5, 0]'),\n",
       " Text(0.3620178041543027, 0.6578947368421053, 'X[5] <= 41.25\\nentropy = 0.414\\nsamples = 12\\nvalue = [11, 1]'),\n",
       " Text(0.35014836795252224, 0.6052631578947368, 'entropy = 0.0\\nsamples = 11\\nvalue = [11, 0]'),\n",
       " Text(0.37388724035608306, 0.6052631578947368, 'entropy = 0.0\\nsamples = 1\\nvalue = [0, 1]'),\n",
       " Text(0.4332344213649852, 0.7105263157894737, 'X[0] <= 5.0\\nentropy = 0.738\\nsamples = 24\\nvalue = [5, 19]'),\n",
       " Text(0.42136498516320475, 0.6578947368421053, 'X[2] <= 69.0\\nentropy = 0.994\\nsamples = 11\\nvalue = [5, 6]'),\n",
       " Text(0.39762611275964393, 0.6052631578947368, 'X[5] <= 34.45\\nentropy = 0.722\\nsamples = 5\\nvalue = [4, 1]'),\n",
       " Text(0.3857566765578635, 0.5526315789473685, 'entropy = 0.0\\nsamples = 4\\nvalue = [4, 0]'),\n",
       " Text(0.4094955489614243, 0.5526315789473685, 'entropy = 0.0\\nsamples = 1\\nvalue = [0, 1]'),\n",
       " Text(0.44510385756676557, 0.6052631578947368, 'X[3] <= 47.5\\nentropy = 0.65\\nsamples = 6\\nvalue = [1, 5]'),\n",
       " Text(0.4332344213649852, 0.5526315789473685, 'entropy = 0.0\\nsamples = 5\\nvalue = [0, 5]'),\n",
       " Text(0.456973293768546, 0.5526315789473685, 'entropy = 0.0\\nsamples = 1\\nvalue = [1, 0]'),\n",
       " Text(0.44510385756676557, 0.6578947368421053, 'entropy = 0.0\\nsamples = 13\\nvalue = [0, 13]'),\n",
       " Text(0.8227930267062314, 0.9210526315789473, 'X[1] <= 165.5\\nentropy = 0.948\\nsamples = 224\\nvalue = [82, 142]'),\n",
       " Text(0.6693249258160238, 0.868421052631579, 'X[5] <= 27.85\\nentropy = 0.997\\nsamples = 158\\nvalue = [74, 84]'),\n",
       " Text(0.5281899109792285, 0.8157894736842105, 'X[0] <= 1.5\\nentropy = 0.764\\nsamples = 36\\nvalue = [28, 8]'),\n",
       " Text(0.516320474777448, 0.7631578947368421, 'entropy = 0.0\\nsamples = 10\\nvalue = [10, 0]'),\n",
       " Text(0.5400593471810089, 0.7631578947368421, 'X[1] <= 145.5\\nentropy = 0.89\\nsamples = 26\\nvalue = [18, 8]'),\n",
       " Text(0.516320474777448, 0.7105263157894737, 'X[2] <= 73.0\\nentropy = 0.65\\nsamples = 18\\nvalue = [15, 3]'),\n",
       " Text(0.5044510385756676, 0.6578947368421053, 'X[0] <= 5.0\\nentropy = 0.954\\nsamples = 8\\nvalue = [5, 3]'),\n",
       " Text(0.49258160237388726, 0.6052631578947368, 'X[6] <= 0.296\\nentropy = 1.0\\nsamples = 6\\nvalue = [3, 3]'),\n",
       " Text(0.4807121661721068, 0.5526315789473685, 'entropy = 0.0\\nsamples = 2\\nvalue = [0, 2]'),\n",
       " Text(0.5044510385756676, 0.5526315789473685, 'X[2] <= 56.0\\nentropy = 0.811\\nsamples = 4\\nvalue = [3, 1]'),\n",
       " Text(0.49258160237388726, 0.5, 'entropy = 0.0\\nsamples = 1\\nvalue = [0, 1]'),\n",
       " Text(0.516320474777448, 0.5, 'entropy = 0.0\\nsamples = 3\\nvalue = [3, 0]'),\n",
       " Text(0.516320474777448, 0.6052631578947368, 'entropy = 0.0\\nsamples = 2\\nvalue = [2, 0]'),\n",
       " Text(0.5281899109792285, 0.6578947368421053, 'entropy = 0.0\\nsamples = 10\\nvalue = [10, 0]'),\n",
       " Text(0.5637982195845698, 0.7105263157894737, 'X[4] <= 14.5\\nentropy = 0.954\\nsamples = 8\\nvalue = [3, 5]'),\n",
       " Text(0.5519287833827893, 0.6578947368421053, 'X[2] <= 63.0\\nentropy = 1.0\\nsamples = 6\\nvalue = [3, 3]'),\n",
       " Text(0.5400593471810089, 0.6052631578947368, 'entropy = 0.0\\nsamples = 2\\nvalue = [0, 2]'),\n",
       " Text(0.5637982195845698, 0.6052631578947368, 'X[2] <= 85.0\\nentropy = 0.811\\nsamples = 4\\nvalue = [3, 1]'),\n",
       " Text(0.5519287833827893, 0.5526315789473685, 'entropy = 0.0\\nsamples = 3\\nvalue = [3, 0]'),\n",
       " Text(0.5756676557863502, 0.5526315789473685, 'entropy = 0.0\\nsamples = 1\\nvalue = [0, 1]'),\n",
       " Text(0.5756676557863502, 0.6578947368421053, 'entropy = 0.0\\nsamples = 2\\nvalue = [0, 2]'),\n",
       " Text(0.810459940652819, 0.8157894736842105, 'X[6] <= 0.726\\nentropy = 0.956\\nsamples = 122\\nvalue = [46, 76]'),\n",
       " Text(0.7514836795252225, 0.7631578947368421, 'X[0] <= 7.5\\nentropy = 0.992\\nsamples = 96\\nvalue = [43, 53]'),\n",
       " Text(0.6928783382789317, 0.7105263157894737, 'X[1] <= 163.0\\nentropy = 0.999\\nsamples = 77\\nvalue = [40, 37]'),\n",
       " Text(0.6810089020771514, 0.6578947368421053, 'X[5] <= 47.2\\nentropy = 1.0\\nsamples = 73\\nvalue = [36, 37]'),\n",
       " Text(0.6691394658753709, 0.6052631578947368, 'X[7] <= 42.5\\nentropy = 0.998\\nsamples = 68\\nvalue = [36, 32]'),\n",
       " Text(0.599406528189911, 0.5526315789473685, 'X[2] <= 55.0\\nentropy = 0.958\\nsamples = 50\\nvalue = [31, 19]'),\n",
       " Text(0.5608308605341247, 0.5, 'X[7] <= 40.0\\nentropy = 0.65\\nsamples = 6\\nvalue = [1, 5]'),\n",
       " Text(0.5489614243323442, 0.4473684210526316, 'entropy = 0.0\\nsamples = 5\\nvalue = [0, 5]'),\n",
       " Text(0.5727002967359051, 0.4473684210526316, 'entropy = 0.0\\nsamples = 1\\nvalue = [1, 0]'),\n",
       " Text(0.6379821958456974, 0.5, 'X[6] <= 0.285\\nentropy = 0.902\\nsamples = 44\\nvalue = [30, 14]'),\n",
       " Text(0.5964391691394659, 0.4473684210526316, 'X[3] <= 39.5\\nentropy = 0.391\\nsamples = 13\\nvalue = [12, 1]'),\n",
       " Text(0.5845697329376854, 0.39473684210526316, 'entropy = 0.0\\nsamples = 11\\nvalue = [11, 0]'),\n",
       " Text(0.6083086053412463, 0.39473684210526316, 'X[7] <= 24.0\\nentropy = 1.0\\nsamples = 2\\nvalue = [1, 1]'),\n",
       " Text(0.5964391691394659, 0.34210526315789475, 'entropy = 0.0\\nsamples = 1\\nvalue = [0, 1]'),\n",
       " Text(0.6201780415430267, 0.34210526315789475, 'entropy = 0.0\\nsamples = 1\\nvalue = [1, 0]'),\n",
       " Text(0.6795252225519288, 0.4473684210526316, 'X[6] <= 0.559\\nentropy = 0.981\\nsamples = 31\\nvalue = [18, 13]'),\n",
       " Text(0.655786350148368, 0.39473684210526316, 'X[1] <= 135.5\\nentropy = 0.985\\nsamples = 21\\nvalue = [9, 12]'),\n",
       " Text(0.6439169139465876, 0.34210526315789475, 'entropy = 0.0\\nsamples = 4\\nvalue = [0, 4]'),\n",
       " Text(0.6676557863501483, 0.34210526315789475, 'X[3] <= 30.5\\nentropy = 0.998\\nsamples = 17\\nvalue = [9, 8]'),\n",
       " Text(0.655786350148368, 0.2894736842105263, 'entropy = 0.0\\nsamples = 4\\nvalue = [4, 0]'),\n",
       " Text(0.6795252225519288, 0.2894736842105263, 'X[3] <= 48.0\\nentropy = 0.961\\nsamples = 13\\nvalue = [5, 8]'),\n",
       " Text(0.6676557863501483, 0.23684210526315788, 'X[7] <= 25.5\\nentropy = 0.845\\nsamples = 11\\nvalue = [3, 8]'),\n",
       " Text(0.655786350148368, 0.18421052631578946, 'entropy = 0.0\\nsamples = 4\\nvalue = [0, 4]'),\n",
       " Text(0.6795252225519288, 0.18421052631578946, 'X[5] <= 38.35\\nentropy = 0.985\\nsamples = 7\\nvalue = [3, 4]'),\n",
       " Text(0.6676557863501483, 0.13157894736842105, 'X[6] <= 0.364\\nentropy = 0.971\\nsamples = 5\\nvalue = [3, 2]'),\n",
       " Text(0.655786350148368, 0.07894736842105263, 'X[3] <= 36.5\\nentropy = 0.918\\nsamples = 3\\nvalue = [1, 2]'),\n",
       " Text(0.6439169139465876, 0.02631578947368421, 'entropy = 0.0\\nsamples = 1\\nvalue = [1, 0]'),\n",
       " Text(0.6676557863501483, 0.02631578947368421, 'entropy = 0.0\\nsamples = 2\\nvalue = [0, 2]'),\n",
       " Text(0.6795252225519288, 0.07894736842105263, 'entropy = 0.0\\nsamples = 2\\nvalue = [2, 0]'),\n",
       " Text(0.6913946587537092, 0.13157894736842105, 'entropy = 0.0\\nsamples = 2\\nvalue = [0, 2]'),\n",
       " Text(0.6913946587537092, 0.23684210526315788, 'entropy = 0.0\\nsamples = 2\\nvalue = [2, 0]'),\n",
       " Text(0.7032640949554896, 0.39473684210526316, 'X[2] <= 85.0\\nentropy = 0.469\\nsamples = 10\\nvalue = [9, 1]'),\n",
       " Text(0.6913946587537092, 0.34210526315789475, 'entropy = 0.0\\nsamples = 9\\nvalue = [9, 0]'),\n",
       " Text(0.7151335311572701, 0.34210526315789475, 'entropy = 0.0\\nsamples = 1\\nvalue = [0, 1]'),\n",
       " Text(0.7388724035608308, 0.5526315789473685, 'X[7] <= 59.5\\nentropy = 0.852\\nsamples = 18\\nvalue = [5, 13]'),\n",
       " Text(0.7151335311572701, 0.5, 'X[1] <= 128.5\\nentropy = 0.414\\nsamples = 12\\nvalue = [1, 11]'),\n",
       " Text(0.7032640949554896, 0.4473684210526316, 'entropy = 0.0\\nsamples = 1\\nvalue = [1, 0]'),\n",
       " Text(0.7270029673590505, 0.4473684210526316, 'entropy = 0.0\\nsamples = 11\\nvalue = [0, 11]'),\n",
       " Text(0.7626112759643917, 0.5, 'X[0] <= 4.5\\nentropy = 0.918\\nsamples = 6\\nvalue = [4, 2]'),\n",
       " Text(0.7507418397626113, 0.4473684210526316, 'X[6] <= 0.36\\nentropy = 0.918\\nsamples = 3\\nvalue = [1, 2]'),\n",
       " Text(0.7388724035608308, 0.39473684210526316, 'entropy = 0.0\\nsamples = 1\\nvalue = [1, 0]'),\n",
       " Text(0.7626112759643917, 0.39473684210526316, 'entropy = 0.0\\nsamples = 2\\nvalue = [0, 2]'),\n",
       " Text(0.7744807121661721, 0.4473684210526316, 'entropy = 0.0\\nsamples = 3\\nvalue = [3, 0]'),\n",
       " Text(0.6928783382789317, 0.6052631578947368, 'entropy = 0.0\\nsamples = 5\\nvalue = [0, 5]'),\n",
       " Text(0.7047477744807121, 0.6578947368421053, 'entropy = 0.0\\nsamples = 4\\nvalue = [4, 0]'),\n",
       " Text(0.8100890207715133, 0.7105263157894737, 'X[6] <= 0.431\\nentropy = 0.629\\nsamples = 19\\nvalue = [3, 16]'),\n",
       " Text(0.798219584569733, 0.6578947368421053, 'X[7] <= 37.0\\nentropy = 0.881\\nsamples = 10\\nvalue = [3, 7]'),\n",
       " Text(0.7863501483679525, 0.6052631578947368, 'entropy = 0.0\\nsamples = 1\\nvalue = [1, 0]'),\n",
       " Text(0.8100890207715133, 0.6052631578947368, 'X[1] <= 131.0\\nentropy = 0.764\\nsamples = 9\\nvalue = [2, 7]'),\n",
       " Text(0.798219584569733, 0.5526315789473685, 'entropy = 0.0\\nsamples = 1\\nvalue = [1, 0]'),\n",
       " Text(0.8219584569732937, 0.5526315789473685, 'X[5] <= 31.85\\nentropy = 0.544\\nsamples = 8\\nvalue = [1, 7]'),\n",
       " Text(0.8100890207715133, 0.5, 'X[2] <= 81.0\\nentropy = 0.918\\nsamples = 3\\nvalue = [1, 2]'),\n",
       " Text(0.798219584569733, 0.4473684210526316, 'entropy = 0.0\\nsamples = 1\\nvalue = [1, 0]'),\n",
       " Text(0.8219584569732937, 0.4473684210526316, 'entropy = 0.0\\nsamples = 2\\nvalue = [0, 2]'),\n",
       " Text(0.8338278931750742, 0.5, 'entropy = 0.0\\nsamples = 5\\nvalue = [0, 5]'),\n",
       " Text(0.8219584569732937, 0.6578947368421053, 'entropy = 0.0\\nsamples = 9\\nvalue = [0, 9]'),\n",
       " Text(0.8694362017804155, 0.7631578947368421, 'X[4] <= 290.5\\nentropy = 0.516\\nsamples = 26\\nvalue = [3, 23]'),\n",
       " Text(0.857566765578635, 0.7105263157894737, 'X[6] <= 1.586\\nentropy = 0.25\\nsamples = 24\\nvalue = [1, 23]'),\n",
       " Text(0.8456973293768546, 0.6578947368421053, 'entropy = 0.0\\nsamples = 22\\nvalue = [0, 22]'),\n",
       " Text(0.8694362017804155, 0.6578947368421053, 'X[4] <= 84.0\\nentropy = 1.0\\nsamples = 2\\nvalue = [1, 1]'),\n",
       " Text(0.857566765578635, 0.6052631578947368, 'entropy = 0.0\\nsamples = 1\\nvalue = [1, 0]'),\n",
       " Text(0.8813056379821959, 0.6052631578947368, 'entropy = 0.0\\nsamples = 1\\nvalue = [0, 1]'),\n",
       " Text(0.8813056379821959, 0.7105263157894737, 'entropy = 0.0\\nsamples = 2\\nvalue = [2, 0]'),\n",
       " Text(0.9762611275964391, 0.868421052631579, 'X[7] <= 66.5\\nentropy = 0.533\\nsamples = 66\\nvalue = [8, 58]'),\n",
       " Text(0.9643916913946587, 0.8157894736842105, 'X[6] <= 2.233\\nentropy = 0.493\\nsamples = 65\\nvalue = [7, 58]'),\n",
       " Text(0.9525222551928784, 0.7631578947368421, 'X[3] <= 32.5\\nentropy = 0.449\\nsamples = 64\\nvalue = [6, 58]'),\n",
       " Text(0.9406528189910979, 0.7105263157894737, 'X[6] <= 1.337\\nentropy = 0.619\\nsamples = 39\\nvalue = [6, 33]'),\n",
       " Text(0.9287833827893175, 0.6578947368421053, 'X[3] <= 30.5\\nentropy = 0.562\\nsamples = 38\\nvalue = [5, 33]'),\n",
       " Text(0.9050445103857567, 0.6052631578947368, 'X[6] <= 0.307\\nentropy = 0.431\\nsamples = 34\\nvalue = [3, 31]'),\n",
       " Text(0.8931750741839762, 0.5526315789473685, 'X[7] <= 39.0\\nentropy = 0.881\\nsamples = 10\\nvalue = [3, 7]'),\n",
       " Text(0.8813056379821959, 0.5, 'X[5] <= 30.4\\nentropy = 0.971\\nsamples = 5\\nvalue = [3, 2]'),\n",
       " Text(0.8694362017804155, 0.4473684210526316, 'entropy = 0.0\\nsamples = 2\\nvalue = [0, 2]'),\n",
       " Text(0.8931750741839762, 0.4473684210526316, 'entropy = 0.0\\nsamples = 3\\nvalue = [3, 0]'),\n",
       " Text(0.9050445103857567, 0.5, 'entropy = 0.0\\nsamples = 5\\nvalue = [0, 5]'),\n",
       " Text(0.9169139465875371, 0.5526315789473685, 'entropy = 0.0\\nsamples = 24\\nvalue = [0, 24]'),\n",
       " Text(0.9525222551928784, 0.6052631578947368, 'X[6] <= 0.591\\nentropy = 1.0\\nsamples = 4\\nvalue = [2, 2]'),\n",
       " Text(0.9406528189910979, 0.5526315789473685, 'entropy = 0.0\\nsamples = 2\\nvalue = [0, 2]'),\n",
       " Text(0.9643916913946587, 0.5526315789473685, 'entropy = 0.0\\nsamples = 2\\nvalue = [2, 0]'),\n",
       " Text(0.9525222551928784, 0.6578947368421053, 'entropy = 0.0\\nsamples = 1\\nvalue = [1, 0]'),\n",
       " Text(0.9643916913946587, 0.7105263157894737, 'entropy = 0.0\\nsamples = 25\\nvalue = [0, 25]'),\n",
       " Text(0.9762611275964391, 0.7631578947368421, 'entropy = 0.0\\nsamples = 1\\nvalue = [1, 0]'),\n",
       " Text(0.9881305637982196, 0.8157894736842105, 'entropy = 0.0\\nsamples = 1\\nvalue = [1, 0]')]"
      ]
     },
     "execution_count": 22,
     "metadata": {},
     "output_type": "execute_result"
    },
    {
     "data": {
      "image/png": "[encoded data removed]",
      "text/plain": [
       "<Figure size 640x480 with 1 Axes>"
      ]
     },
     "metadata": {},
     "output_type": "display_data"
    }
   ],
   "source": [
    "tree.plot_tree(dt_clf)"
   ]
  },
  {
   "cell_type": "code",
   "execution_count": 23,
   "id": "0f4902a3",
   "metadata": {},
   "outputs": [
    {
     "name": "stdout",
     "output_type": "stream",
     "text": [
      "****************************************************************************************************\n",
      "Decison Tree Model\n",
      "****************************************************************************************************\n",
      "\n",
      " Training Phase\n",
      "Hyperparameter:\n",
      " {'ccp_alpha': 0.0, 'class_weight': None, 'criterion': 'entropy', 'max_depth': 2, 'max_features': None, 'max_leaf_nodes': None, 'min_impurity_decrease': 0.0, 'min_samples_leaf': 1, 'min_samples_split': 2, 'min_weight_fraction_leaf': 0.0, 'random_state': None, 'splitter': 'best'}\n",
      "Training Completed\n",
      "====================================================================================================\n",
      "\n",
      " Test Phase\n",
      "Predicted class labels for the test samples:\n",
      " [0 1 0 0 1 0 0 1 0 1 0 0 1 0 0 1 1 0 0 1 1 1 0 0 0 0 1 0 0 0 0 0 0 0 0 1 0\n",
      " 1 1 0 0 0 0 0 0 0 0 0 0 1 1 0 0 1 0 0 1 1 0 0 0 1 1 1 0 1 1 0 0 0 0 0 1 0\n",
      " 0 1 1 0 0 0 0 0 0 0 1 0 0 0 0 1 0 0 0 0 0 1 1 0 1 0 1 1 1 0 0 0 1 0 0 0 0\n",
      " 0 1 0 0 1 0 0 0 0 0 0 0 0 1 1 0 1 1 0 1 0 1 0 0 1 0 1 1 0 0 0 0 0 0 0 0 1\n",
      " 0 0 0 1 1 0 0 0 0 1 0 1 0 0 0 0 1 0 0 1 0 0 0 1 0 0 0 0 1 0 0 0 0 0 1 0 0\n",
      " 0 0 1 0 1 0 0]\n",
      "\n",
      "Testing completed\n",
      "====================================================================================================\n",
      "****************************************************************************************************\n",
      "Decison Tree - Performance Measures\n",
      "****************************************************************************************************\n",
      "Accuracy Score:\t 0.7239583333333334\n",
      "====================================================================================================\n",
      "Confusion Matric:\n",
      " [[107  27]\n",
      " [ 26  32]]\n",
      "====================================================================================================\n",
      "Classification Report\n",
      "               precision    recall  f1-score   support\n",
      "\n",
      "           0       0.80      0.80      0.80       134\n",
      "           1       0.54      0.55      0.55        58\n",
      "\n",
      "    accuracy                           0.72       192\n",
      "   macro avg       0.67      0.68      0.67       192\n",
      "weighted avg       0.73      0.72      0.72       192\n",
      "\n",
      "====================================================================================================\n"
     ]
    }
   ],
   "source": [
    "from sklearn.tree import DecisionTreeClassifier\n",
    "dt_clf=DecisionTreeClassifier(criterion='entropy',max_depth=2)\n",
    "print('*'*100)\n",
    "print('Decison Tree Model')\n",
    "print('*'*100)\n",
    "print('\\n Training Phase')\n",
    "dt_clf.fit(xtrain,ytrain)\n",
    "print('Hyperparameter:\\n',dt_clf.get_params())\n",
    "print('Training Completed')\n",
    "print('='*100)\n",
    "print('\\n Test Phase')\n",
    "ypred=dt_clf.predict(xtest)\n",
    "print('Predicted class labels for the test samples:\\n',ypred)\n",
    "print()\n",
    "print('Testing completed')\n",
    "print('='*100)\n",
    "#import metrics\n",
    "from sklearn.metrics import accuracy_score\n",
    "from sklearn.metrics import confusion_matrix\n",
    "from sklearn.metrics import classification_report\n",
    "print('*'*100)\n",
    "print('Decison Tree - Performance Measures')\n",
    "print('*'*100)\n",
    "print('Accuracy Score:\\t',accuracy_score(ytest,ypred))\n",
    "print('='*100)\n",
    "print('Confusion Matric:\\n',confusion_matrix(ytest,ypred))\n",
    "print('='*100)\n",
    "print('Classification Report\\n',classification_report(ytest,ypred))\n",
    "print('='*100)"
   ]
  },
  {
   "cell_type": "code",
   "execution_count": 24,
   "id": "e16bb543",
   "metadata": {},
   "outputs": [
    {
     "data": {
      "text/plain": [
       "[Text(0.5, 0.8333333333333334, 'X[1] <= 127.5\\nentropy = 0.946\\nsamples = 576\\nvalue = [366, 210]'),\n",
       " Text(0.25, 0.5, 'X[5] <= 26.45\\nentropy = 0.708\\nsamples = 352\\nvalue = [284, 68]'),\n",
       " Text(0.125, 0.16666666666666666, 'entropy = 0.139\\nsamples = 102\\nvalue = [100, 2]'),\n",
       " Text(0.375, 0.16666666666666666, 'entropy = 0.833\\nsamples = 250\\nvalue = [184, 66]'),\n",
       " Text(0.75, 0.5, 'X[1] <= 165.5\\nentropy = 0.948\\nsamples = 224\\nvalue = [82, 142]'),\n",
       " Text(0.625, 0.16666666666666666, 'entropy = 0.997\\nsamples = 158\\nvalue = [74, 84]'),\n",
       " Text(0.875, 0.16666666666666666, 'entropy = 0.533\\nsamples = 66\\nvalue = [8, 58]')]"
      ]
     },
     "execution_count": 24,
     "metadata": {},
     "output_type": "execute_result"
    },
    {
     "data": {
      "image/png": "[encoded data removed]",
      "text/plain": [
       "<Figure size 640x480 with 1 Axes>"
      ]
     },
     "metadata": {},
     "output_type": "display_data"
    }
   ],
   "source": [
    "tree.plot_tree(dt_clf)"
   ]
  },
  {
   "cell_type": "code",
   "execution_count": 25,
   "id": "42e66da6",
   "metadata": {},
   "outputs": [
    {
     "name": "stdout",
     "output_type": "stream",
     "text": [
      "Defaulting to user installation because normal site-packages is not writeable\n",
      "Requirement already satisfied: graphviz in c:\\users\\shabaz\\appdata\\roaming\\python\\python311\\site-packages (0.20.1)\n"
     ]
    }
   ],
   "source": [
    "!pip install graphviz"
   ]
  },
  {
   "cell_type": "code",
   "execution_count": 26,
   "id": "6104631b",
   "metadata": {},
   "outputs": [],
   "source": [
    "from sklearn import tree\n",
    "import graphviz"
   ]
  },
  {
   "cell_type": "code",
   "execution_count": 27,
   "id": "c0eada41",
   "metadata": {},
   "outputs": [
    {
     "data": {
      "text/plain": [
       "array(['Pregnancies', 'Glucose', 'BloodPressure', 'SkinThickness',\n",
       "       'Insulin', 'BMI', 'DiabetesPedigreeFunction', 'Age'], dtype=object)"
      ]
     },
     "execution_count": 27,
     "metadata": {},
     "output_type": "execute_result"
    }
   ],
   "source": [
    "dt_clf.feature_names_in_"
   ]
  },
  {
   "cell_type": "code",
   "execution_count": 28,
   "id": "c18cbea7",
   "metadata": {},
   "outputs": [
    {
     "data": {
      "text/plain": [
       "list"
      ]
     },
     "execution_count": 28,
     "metadata": {},
     "output_type": "execute_result"
    }
   ],
   "source": [
    "col_names=['Pregnancies', 'Glucose', 'BloodPressure', 'SkinThickness',\n",
    " 'Insulin', 'BMI', 'DiabetesPedigreeFunction', 'Age']\n",
    "type(col_names)"
   ]
  },
  {
   "cell_type": "code",
   "execution_count": 29,
   "id": "a8f9a5a1",
   "metadata": {},
   "outputs": [
    {
     "data": {
      "text/plain": [
       "['0', '1']"
      ]
     },
     "execution_count": 29,
     "metadata": {},
     "output_type": "execute_result"
    }
   ],
   "source": [
    "label_names=['0','1']\n",
    "label_names"
   ]
  },
  {
   "cell_type": "code",
   "execution_count": 30,
   "id": "62d71ff7",
   "metadata": {},
   "outputs": [],
   "source": [
    "import os\n",
    "os.environ[\"PATH\"] += os.pathsep + 'C:/ProgramData/Anaconda3/Library/bin/graphviz/'"
   ]
  },
  {
   "cell_type": "code",
   "execution_count": 31,
   "id": "aa70454b",
   "metadata": {},
   "outputs": [
    {
     "data": {
      "text/plain": [
       "'DT tree.pdf'"
      ]
     },
     "execution_count": 31,
     "metadata": {},
     "output_type": "execute_result"
    }
   ],
   "source": [
    "dot_data=tree.export_graphviz(dt_clf,feature_names=col_names,class_names=['0','1'],filled=True,rounded=True,special_characters=True)\n",
    "graph=graphviz.Source(dot_data)\n",
    "graph.render('DT tree')\n",
    "graph.view()"
   ]
  },
  {
   "cell_type": "code",
   "execution_count": null,
   "id": "79441bcf",
   "metadata": {},
   "outputs": [],
   "source": []
  }
 ],
 "metadata": {
  "kernelspec": {
   "display_name": "Python 3 (ipykernel)",
   "language": "python",
   "name": "python3"
  },
  "language_info": {
   "codemirror_mode": {
    "name": "ipython",
    "version": 3
   },
   "file_extension": ".py",
   "mimetype": "text/x-python",
   "name": "python",
   "nbconvert_exporter": "python",
   "pygments_lexer": "ipython3",
   "version": "3.11.5"
  }
 },
 "nbformat": 4,
 "nbformat_minor": 5
}
