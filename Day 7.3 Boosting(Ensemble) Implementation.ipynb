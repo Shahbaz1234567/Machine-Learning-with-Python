{
 "cells": [
  {
   "cell_type": "markdown",
   "id": "c55408de",
   "metadata": {},
   "source": [
    "# Building the Base Regression Model"
   ]
  },
  {
   "cell_type": "code",
   "execution_count": 1,
   "id": "5f5c5821",
   "metadata": {},
   "outputs": [],
   "source": [
    "import numpy as np\n",
    "import pandas as pd\n",
    "import matplotlib.pyplot as plt\n",
    "import seaborn as sns"
   ]
  },
  {
   "cell_type": "code",
   "execution_count": 4,
   "id": "607cb842",
   "metadata": {},
   "outputs": [
    {
     "data": {
      "text/html": [
       "<div>\n",
       "<style scoped>\n",
       "    .dataframe tbody tr th:only-of-type {\n",
       "        vertical-align: middle;\n",
       "    }\n",
       "\n",
       "    .dataframe tbody tr th {\n",
       "        vertical-align: top;\n",
       "    }\n",
       "\n",
       "    .dataframe thead th {\n",
       "        text-align: right;\n",
       "    }\n",
       "</style>\n",
       "<table border=\"1\" class=\"dataframe\">\n",
       "  <thead>\n",
       "    <tr style=\"text-align: right;\">\n",
       "      <th></th>\n",
       "      <th>fixed acidity</th>\n",
       "      <th>volatile acidity</th>\n",
       "      <th>citric acid</th>\n",
       "      <th>residual sugar</th>\n",
       "      <th>chlorides</th>\n",
       "      <th>free sulfur dioxide</th>\n",
       "      <th>total sulfur dioxide</th>\n",
       "      <th>density</th>\n",
       "      <th>pH</th>\n",
       "      <th>sulphates</th>\n",
       "      <th>alcohol</th>\n",
       "      <th>quality</th>\n",
       "    </tr>\n",
       "  </thead>\n",
       "  <tbody>\n",
       "    <tr>\n",
       "      <th>0</th>\n",
       "      <td>7.4</td>\n",
       "      <td>0.70</td>\n",
       "      <td>0.0</td>\n",
       "      <td>1.9</td>\n",
       "      <td>0.076</td>\n",
       "      <td>11.0</td>\n",
       "      <td>34.0</td>\n",
       "      <td>0.9978</td>\n",
       "      <td>3.51</td>\n",
       "      <td>0.56</td>\n",
       "      <td>9.4</td>\n",
       "      <td>5</td>\n",
       "    </tr>\n",
       "    <tr>\n",
       "      <th>1</th>\n",
       "      <td>7.8</td>\n",
       "      <td>0.88</td>\n",
       "      <td>0.0</td>\n",
       "      <td>2.6</td>\n",
       "      <td>0.098</td>\n",
       "      <td>25.0</td>\n",
       "      <td>67.0</td>\n",
       "      <td>0.9968</td>\n",
       "      <td>3.20</td>\n",
       "      <td>0.68</td>\n",
       "      <td>9.8</td>\n",
       "      <td>5</td>\n",
       "    </tr>\n",
       "  </tbody>\n",
       "</table>\n",
       "</div>"
      ],
      "text/plain": [
       "   fixed acidity  volatile acidity  citric acid  residual sugar  chlorides  \\\n",
       "0            7.4              0.70          0.0             1.9      0.076   \n",
       "1            7.8              0.88          0.0             2.6      0.098   \n",
       "\n",
       "   free sulfur dioxide  total sulfur dioxide  density    pH  sulphates  \\\n",
       "0                 11.0                  34.0   0.9978  3.51       0.56   \n",
       "1                 25.0                  67.0   0.9968  3.20       0.68   \n",
       "\n",
       "   alcohol  quality  \n",
       "0      9.4        5  \n",
       "1      9.8        5  "
      ]
     },
     "execution_count": 4,
     "metadata": {},
     "output_type": "execute_result"
    }
   ],
   "source": [
    "data=pd.read_csv('winequality-red.csv')\n",
    "data.head(2)"
   ]
  },
  {
   "cell_type": "code",
   "execution_count": 5,
   "id": "f0f48783",
   "metadata": {},
   "outputs": [
    {
     "name": "stderr",
     "output_type": "stream",
     "text": [
      "C:\\Users\\shabaz\\AppData\\Local\\Temp\\ipykernel_12620\\4098303021.py:1: UserWarning: \n",
      "\n",
      "`distplot` is a deprecated function and will be removed in seaborn v0.14.0.\n",
      "\n",
      "Please adapt your code to use either `displot` (a figure-level function with\n",
      "similar flexibility) or `histplot` (an axes-level function for histograms).\n",
      "\n",
      "For a guide to updating your code to use the new functions, please see\n",
      "https://gist.github.com/mwaskom/de44147ed2974457ad6372750bbe5751\n",
      "\n",
      "  sns.distplot(data['alcohol'])\n"
     ]
    },
    {
     "data": {
      "text/plain": [
       "<Axes: xlabel='alcohol', ylabel='Density'>"
      ]
     },
     "execution_count": 5,
     "metadata": {},
     "output_type": "execute_result"
    },
    {
     "data": {
      "image/png": "[encoded data removed]",
      "text/plain": [
       "<Figure size 640x480 with 1 Axes>"
      ]
     },
     "metadata": {},
     "output_type": "display_data"
    }
   ],
   "source": [
    "sns.distplot(data['alcohol'])"
   ]
  },
  {
   "cell_type": "code",
   "execution_count": 6,
   "id": "b43c5ebe",
   "metadata": {},
   "outputs": [
    {
     "data": {
      "text/html": [
       "<div>\n",
       "<style scoped>\n",
       "    .dataframe tbody tr th:only-of-type {\n",
       "        vertical-align: middle;\n",
       "    }\n",
       "\n",
       "    .dataframe tbody tr th {\n",
       "        vertical-align: top;\n",
       "    }\n",
       "\n",
       "    .dataframe thead th {\n",
       "        text-align: right;\n",
       "    }\n",
       "</style>\n",
       "<table border=\"1\" class=\"dataframe\">\n",
       "  <thead>\n",
       "    <tr style=\"text-align: right;\">\n",
       "      <th></th>\n",
       "      <th>fixed acidity</th>\n",
       "      <th>volatile acidity</th>\n",
       "      <th>citric acid</th>\n",
       "      <th>residual sugar</th>\n",
       "      <th>chlorides</th>\n",
       "      <th>free sulfur dioxide</th>\n",
       "      <th>total sulfur dioxide</th>\n",
       "      <th>density</th>\n",
       "      <th>pH</th>\n",
       "      <th>sulphates</th>\n",
       "    </tr>\n",
       "  </thead>\n",
       "  <tbody>\n",
       "    <tr>\n",
       "      <th>0</th>\n",
       "      <td>7.4</td>\n",
       "      <td>0.7</td>\n",
       "      <td>0.0</td>\n",
       "      <td>1.9</td>\n",
       "      <td>0.076</td>\n",
       "      <td>11.0</td>\n",
       "      <td>34.0</td>\n",
       "      <td>0.9978</td>\n",
       "      <td>3.51</td>\n",
       "      <td>0.56</td>\n",
       "    </tr>\n",
       "  </tbody>\n",
       "</table>\n",
       "</div>"
      ],
      "text/plain": [
       "   fixed acidity  volatile acidity  citric acid  residual sugar  chlorides  \\\n",
       "0            7.4               0.7          0.0             1.9      0.076   \n",
       "\n",
       "   free sulfur dioxide  total sulfur dioxide  density    pH  sulphates  \n",
       "0                 11.0                  34.0   0.9978  3.51       0.56  "
      ]
     },
     "execution_count": 6,
     "metadata": {},
     "output_type": "execute_result"
    }
   ],
   "source": [
    "x=data.iloc[:,:-2]\n",
    "x.head(1)"
   ]
  },
  {
   "cell_type": "code",
   "execution_count": 7,
   "id": "775bc9c7",
   "metadata": {},
   "outputs": [],
   "source": [
    "y=data.alcohol"
   ]
  },
  {
   "cell_type": "code",
   "execution_count": 8,
   "id": "5596d461",
   "metadata": {},
   "outputs": [
    {
     "data": {
      "text/plain": [
       "(1599,)"
      ]
     },
     "execution_count": 8,
     "metadata": {},
     "output_type": "execute_result"
    }
   ],
   "source": [
    "y.shape"
   ]
  },
  {
   "cell_type": "code",
   "execution_count": 9,
   "id": "47f83421",
   "metadata": {},
   "outputs": [
    {
     "name": "stdout",
     "output_type": "stream",
     "text": [
      "****************Training Data Shape********************\n",
      "\n",
      "Training data-X- Shape:\t (1199, 10)\n",
      "\n",
      "Training data-y- Shape:\t (1199,)\n",
      "\n",
      "****************Testing Data Shape********************\n",
      "\n",
      "Testing data(x-Input) Shape:\t (400, 10)\n",
      "\n",
      "Testing data(y-Outcome) Shape:\t (400,)\n"
     ]
    }
   ],
   "source": [
    "from sklearn.model_selection import train_test_split\n",
    "xtrain,xtest,ytrain,ytest=train_test_split(x,y,test_size=.25,random_state=2)\n",
    "print('****************Training Data Shape********************\\n')\n",
    "print('Training data-X- Shape:\\t',xtrain.shape)\n",
    "print()\n",
    "print('Training data-y- Shape:\\t',ytrain.shape)\n",
    "print()\n",
    "print('****************Testing Data Shape********************\\n')\n",
    "print('Testing data(x-Input) Shape:\\t',xtest.shape)\n",
    "print()\n",
    "print('Testing data(y-Outcome) Shape:\\t',ytest.shape)"
   ]
  },
  {
   "cell_type": "markdown",
   "id": "d5779076",
   "metadata": {},
   "source": [
    "# Base Model"
   ]
  },
  {
   "cell_type": "markdown",
   "id": "eeb489ed",
   "metadata": {},
   "source": [
    "# 1. Linear Regression Model"
   ]
  },
  {
   "cell_type": "code",
   "execution_count": 10,
   "id": "b827358b",
   "metadata": {},
   "outputs": [
    {
     "name": "stdout",
     "output_type": "stream",
     "text": [
      "****************************************************************************************************\n",
      "Linear Regression Model\n",
      "****************************************************************************************************\n",
      "\n",
      " Training Phase\n",
      "Hyperparameter:\n",
      " {'copy_X': True, 'fit_intercept': True, 'n_jobs': None, 'normalize': 'deprecated', 'positive': False}\n",
      "Training Completed\n",
      "====================================================================================================\n",
      "\n",
      " Test Phase\n",
      "\n",
      "Testing completed\n",
      "====================================================================================================\n",
      "****************************************************************************************************\n",
      "Linear Regression - Performance Measures\n",
      "****************************************************************************************************\n",
      "Accuracy Score - Linear Regression:\t 0.664715459787808\n",
      "\n",
      "MSE-linear Regression:\t 0.3841076498952607\n",
      "\n",
      "RMSE linear Regression:\t 0.6197641889422627\n"
     ]
    }
   ],
   "source": [
    "from sklearn.linear_model import LinearRegression\n",
    "lin_reg=LinearRegression()\n",
    "print('*'*100)\n",
    "print('Linear Regression Model')\n",
    "print('*'*100)\n",
    "print('\\n Training Phase')\n",
    "lin_reg.fit(xtrain,ytrain)\n",
    "print('Hyperparameter:\\n',lin_reg.get_params())\n",
    "print('Training Completed')\n",
    "print('='*100)\n",
    "print('\\n Test Phase')\n",
    "ypred_lin_reg=lin_reg.predict(xtest)\n",
    "#print('Predicted values for the test samples:\\n',ypred_lin_reg)\n",
    "print()\n",
    "print('Testing completed')\n",
    "print('='*100)\n",
    "#import metrics\n",
    "from sklearn.metrics import r2_score,mean_squared_error\n",
    "print('*'*100)\n",
    "print('Linear Regression - Performance Measures')\n",
    "print('*'*100)\n",
    "Accuracy_lin_reg=r2_score(ytest,ypred_lin_reg)\n",
    "MSE_lin_reg=mean_squared_error(ytest,ypred_lin_reg)\n",
    "RMSE_lin_reg=np.sqrt(mean_squared_error(ytest,ypred_lin_reg))\n",
    "print('Accuracy Score - Linear Regression:\\t',Accuracy_lin_reg)\n",
    "print()\n",
    "print('MSE-linear Regression:\\t',MSE_lin_reg)\n",
    "print()\n",
    "print('RMSE linear Regression:\\t',RMSE_lin_reg)"
   ]
  },
  {
   "cell_type": "markdown",
   "id": "f5a084ae",
   "metadata": {},
   "source": [
    "# 2. KNN Regression"
   ]
  },
  {
   "cell_type": "code",
   "execution_count": 11,
   "id": "6fea310f",
   "metadata": {},
   "outputs": [
    {
     "name": "stdout",
     "output_type": "stream",
     "text": [
      "****************************************************************************************************\n",
      "KNN Regression Model\n",
      "****************************************************************************************************\n",
      "\n",
      " Training Phase\n",
      "Hyperparameter:\n",
      " {'algorithm': 'auto', 'leaf_size': 30, 'metric': 'minkowski', 'metric_params': None, 'n_jobs': None, 'n_neighbors': 3, 'p': 2, 'weights': 'uniform'}\n",
      "Training Completed\n",
      "====================================================================================================\n",
      "\n",
      " Test Phase\n",
      "\n",
      "Testing completed\n",
      "====================================================================================================\n",
      "****************************************************************************************************\n",
      "KNN Regression - Performance Measures\n",
      "****************************************************************************************************\n",
      "Accuracy Score - knn Regression:\t -0.05495741052515957\n",
      "\n",
      "MSE-knn Regression:\t 1.2085770833333336\n",
      "\n",
      "RMSE knn Regression:\t 1.0993530294374658\n"
     ]
    }
   ],
   "source": [
    "from sklearn.neighbors import KNeighborsRegressor\n",
    "knn_reg=KNeighborsRegressor(n_neighbors=3)\n",
    "print('*'*100)\n",
    "print('KNN Regression Model')\n",
    "print('*'*100)\n",
    "print('\\n Training Phase')\n",
    "knn_reg.fit(xtrain,ytrain)\n",
    "print('Hyperparameter:\\n',knn_reg.get_params())\n",
    "print('Training Completed')\n",
    "print('='*100)\n",
    "print('\\n Test Phase')\n",
    "ypred_knn=knn_reg.predict(xtest)\n",
    "#print('Predicted values for the test samples:\\n',ypred_lin_reg)\n",
    "print()\n",
    "print('Testing completed')\n",
    "print('='*100)\n",
    "#import metrics\n",
    "from sklearn.metrics import r2_score,mean_squared_error\n",
    "print('*'*100)\n",
    "print('KNN Regression - Performance Measures')\n",
    "print('*'*100)\n",
    "Accuracy_knn_reg=r2_score(ytest,ypred_knn)\n",
    "MSE_knn=mean_squared_error(ytest,ypred_knn)\n",
    "RMSE_knn=np.sqrt(mean_squared_error(ytest,ypred_knn))\n",
    "print('Accuracy Score - knn Regression:\\t',Accuracy_knn_reg)\n",
    "print()\n",
    "print('MSE-knn Regression:\\t',MSE_knn)\n",
    "print()\n",
    "print('RMSE knn Regression:\\t',RMSE_knn)"
   ]
  },
  {
   "cell_type": "markdown",
   "id": "d93f5fb8",
   "metadata": {},
   "source": [
    "# 3. Decision Tree Regresion Model"
   ]
  },
  {
   "cell_type": "code",
   "execution_count": 12,
   "id": "644763ab",
   "metadata": {},
   "outputs": [
    {
     "name": "stdout",
     "output_type": "stream",
     "text": [
      "****************************************************************************************************\n",
      "DT Regression Model\n",
      "****************************************************************************************************\n",
      "\n",
      " Training Phase\n",
      "Hyperparameter:\n",
      " {'ccp_alpha': 0.0, 'criterion': 'squared_error', 'max_depth': None, 'max_features': None, 'max_leaf_nodes': None, 'min_impurity_decrease': 0.0, 'min_samples_leaf': 1, 'min_samples_split': 2, 'min_weight_fraction_leaf': 0.0, 'random_state': None, 'splitter': 'best'}\n",
      "Training Completed\n",
      "====================================================================================================\n",
      "\n",
      " Test Phase\n",
      "\n",
      "Testing completed\n",
      "====================================================================================================\n",
      "****************************************************************************************************\n",
      "Linear Regression - Performance Measures\n",
      "****************************************************************************************************\n",
      "Accuracy Score - DT Regression:\t 0.4739400475173675\n",
      "\n",
      "MSE-DT Regression:\t 0.6026631944444446\n",
      "\n",
      "RMSE DT Regression:\t 0.7763138504783001\n"
     ]
    }
   ],
   "source": [
    "from sklearn.tree import DecisionTreeRegressor\n",
    "dt_reg=DecisionTreeRegressor()\n",
    "print('*'*100)\n",
    "print('DT Regression Model')\n",
    "print('*'*100)\n",
    "print('\\n Training Phase')\n",
    "dt_reg.fit(xtrain,ytrain)\n",
    "print('Hyperparameter:\\n',dt_reg.get_params())\n",
    "print('Training Completed')\n",
    "print('='*100)\n",
    "print('\\n Test Phase')\n",
    "ypred_dt_reg=dt_reg.predict(xtest)\n",
    "#print('Predicted values for the test samples:\\n',ypred_lin_reg)\n",
    "print()\n",
    "print('Testing completed')\n",
    "print('='*100)\n",
    "#import metrics\n",
    "from sklearn.metrics import r2_score,mean_squared_error\n",
    "print('*'*100)\n",
    "print('Linear Regression - Performance Measures')\n",
    "print('*'*100)\n",
    "Accuracy_dt_reg=r2_score(ytest,ypred_dt_reg)\n",
    "MSE_dt_reg=mean_squared_error(ytest,ypred_dt_reg)\n",
    "RMSE_dt_reg=np.sqrt(mean_squared_error(ytest,ypred_dt_reg))\n",
    "print('Accuracy Score - DT Regression:\\t',Accuracy_dt_reg)\n",
    "print()\n",
    "print('MSE-DT Regression:\\t',MSE_dt_reg)\n",
    "print()\n",
    "print('RMSE DT Regression:\\t',RMSE_dt_reg)"
   ]
  },
  {
   "cell_type": "markdown",
   "id": "5361dfd3",
   "metadata": {},
   "source": [
    "# 4. Support Vector Regressor"
   ]
  },
  {
   "cell_type": "code",
   "execution_count": 14,
   "id": "22982237",
   "metadata": {},
   "outputs": [
    {
     "name": "stdout",
     "output_type": "stream",
     "text": [
      "****************************************************************************************************\n",
      "SVR Regression Model\n",
      "****************************************************************************************************\n",
      "\n",
      " Training Phase\n",
      "Hyperparameter:\n",
      " {'C': 1.0, 'cache_size': 200, 'coef0': 0.0, 'degree': 3, 'epsilon': 0.1, 'gamma': 'scale', 'kernel': 'rbf', 'max_iter': -1, 'shrinking': True, 'tol': 0.001, 'verbose': False}\n",
      "Training Completed\n",
      "====================================================================================================\n",
      "\n",
      " Test Phase\n",
      "\n",
      "Testing completed\n",
      "====================================================================================================\n",
      "****************************************************************************************************\n",
      "SVR Regression - Performance Measures\n",
      "****************************************************************************************************\n",
      "Accuracy Score - SVR Regression:\t -0.011578667537169407\n",
      "\n",
      "MSE-SVR Regression:\t 1.1588816604129015\n",
      "\n",
      "RMSE SVR Regression:\t 1.0765136601143999\n"
     ]
    }
   ],
   "source": [
    "from sklearn.svm import SVR\n",
    "svr=SVR()\n",
    "print('*'*100)\n",
    "print('SVR Regression Model')\n",
    "print('*'*100)\n",
    "print('\\n Training Phase')\n",
    "svr.fit(xtrain,ytrain)\n",
    "print('Hyperparameter:\\n',svr.get_params())\n",
    "print('Training Completed')\n",
    "print('='*100)\n",
    "print('\\n Test Phase')\n",
    "ypred_svr=svr.predict(xtest)\n",
    "#print('Predicted values for the test samples:\\n',ypred_lin_reg)\n",
    "print()\n",
    "print('Testing completed')\n",
    "print('='*100)\n",
    "#import metrics\n",
    "from sklearn.metrics import r2_score,mean_squared_error\n",
    "print('*'*100)\n",
    "print('SVR Regression - Performance Measures')\n",
    "print('*'*100)\n",
    "Accuracy_svr=r2_score(ytest,ypred_svr)\n",
    "MSE_svr=mean_squared_error(ytest,ypred_svr)\n",
    "RMSE_svr=np.sqrt(mean_squared_error(ytest,ypred_svr))\n",
    "print('Accuracy Score - SVR Regression:\\t',Accuracy_svr)\n",
    "print()\n",
    "print('MSE-SVR Regression:\\t',MSE_svr)\n",
    "print()\n",
    "print('RMSE SVR Regression:\\t',RMSE_svr)"
   ]
  },
  {
   "cell_type": "markdown",
   "id": "272b3e75",
   "metadata": {},
   "source": [
    "# 5. Boosting - Adaboost with the base model -Linear Regression"
   ]
  },
  {
   "cell_type": "code",
   "execution_count": 15,
   "id": "14157e3f",
   "metadata": {},
   "outputs": [
    {
     "name": "stdout",
     "output_type": "stream",
     "text": [
      "****************************************************************************************************\n",
      "AdaBoost Regression Model\n",
      "****************************************************************************************************\n",
      "\n",
      " Training Phase\n",
      "Hyperparameter:\n",
      " {'base_estimator__copy_X': True, 'base_estimator__fit_intercept': True, 'base_estimator__n_jobs': None, 'base_estimator__normalize': 'deprecated', 'base_estimator__positive': False, 'base_estimator': LinearRegression(), 'learning_rate': 1.0, 'loss': 'linear', 'n_estimators': 15, 'random_state': None}\n",
      "Training Completed\n",
      "====================================================================================================\n",
      "\n",
      " Test Phase\n",
      "\n",
      "Testing completed\n",
      "====================================================================================================\n",
      "****************************************************************************************************\n",
      "Adaboost Regression - Performance Measures\n",
      "****************************************************************************************************\n",
      "Accuracy Score - Adaboost Regression:\t 0.6624302605312951\n",
      "\n",
      "MSE-Adaboost Regression:\t 0.3867256128809864\n",
      "\n",
      "RMSE Adaboost Regression:\t 0.6218726661310869\n"
     ]
    }
   ],
   "source": [
    "from sklearn.ensemble import AdaBoostRegressor\n",
    "ada=AdaBoostRegressor(base_estimator=lin_reg,n_estimators=15)\n",
    "print('*'*100)\n",
    "print('AdaBoost Regression Model')\n",
    "print('*'*100)\n",
    "print('\\n Training Phase')\n",
    "ada.fit(xtrain,ytrain)\n",
    "print('Hyperparameter:\\n',ada.get_params())\n",
    "print('Training Completed')\n",
    "print('='*100)\n",
    "print('\\n Test Phase')\n",
    "ypred_ada=ada.predict(xtest)\n",
    "#print('Predicted values for the test samples:\\n',ypred_lin_reg)\n",
    "print()\n",
    "print('Testing completed')\n",
    "print('='*100)\n",
    "#import metrics\n",
    "from sklearn.metrics import r2_score,mean_squared_error\n",
    "print('*'*100)\n",
    "print('Adaboost Regression - Performance Measures')\n",
    "print('*'*100)\n",
    "Accuracy_ada=r2_score(ytest,ypred_ada)\n",
    "MSE_ada=mean_squared_error(ytest,ypred_ada)\n",
    "RMSE_ada=np.sqrt(mean_squared_error(ytest,ypred_ada))\n",
    "print('Accuracy Score - Adaboost Regression:\\t',Accuracy_ada)\n",
    "print()\n",
    "print('MSE-Adaboost Regression:\\t',MSE_ada)\n",
    "print()\n",
    "print('RMSE Adaboost Regression:\\t',RMSE_ada)"
   ]
  },
  {
   "cell_type": "markdown",
   "id": "54d47e24",
   "metadata": {},
   "source": [
    "# 6. Boosting - GradientBoost"
   ]
  },
  {
   "cell_type": "code",
   "execution_count": 17,
   "id": "1fd2c659",
   "metadata": {},
   "outputs": [
    {
     "name": "stdout",
     "output_type": "stream",
     "text": [
      "****************************************************************************************************\n",
      "GradientBoosting Regression Model\n",
      "****************************************************************************************************\n",
      "\n",
      " Training Phase\n",
      "Hyperparameter:\n",
      " {'alpha': 0.9, 'ccp_alpha': 0.0, 'criterion': 'friedman_mse', 'init': None, 'learning_rate': 0.1, 'loss': 'squared_error', 'max_depth': 3, 'max_features': None, 'max_leaf_nodes': None, 'min_impurity_decrease': 0.0, 'min_samples_leaf': 1, 'min_samples_split': 2, 'min_weight_fraction_leaf': 0.0, 'n_estimators': 15, 'n_iter_no_change': None, 'random_state': None, 'subsample': 1.0, 'tol': 0.0001, 'validation_fraction': 0.1, 'verbose': 0, 'warm_start': False}\n",
      "Training Completed\n",
      "====================================================================================================\n",
      "\n",
      " Test Phase\n",
      "\n",
      "Testing completed\n",
      "====================================================================================================\n",
      "****************************************************************************************************\n",
      "GradientBoosting Regression - Performance Measures\n",
      "****************************************************************************************************\n",
      "Accuracy Score - GradientBoosting Regression:\t 0.5308540095915462\n",
      "\n",
      "MSE-GradientBoosting Regression:\t 0.537461595215606\n",
      "\n",
      "RMSE GradientBoosting Regression:\t 0.7331177226173201\n"
     ]
    }
   ],
   "source": [
    "from sklearn.ensemble import GradientBoostingRegressor\n",
    "grad_boost=GradientBoostingRegressor(n_estimators=15)\n",
    "print('*'*100)\n",
    "print('GradientBoosting Regression Model')\n",
    "print('*'*100)\n",
    "print('\\n Training Phase')\n",
    "grad_boost.fit(xtrain,ytrain)\n",
    "print('Hyperparameter:\\n',grad_boost.get_params())\n",
    "print('Training Completed')\n",
    "print('='*100)\n",
    "print('\\n Test Phase')\n",
    "ypred_grad_boost=grad_boost.predict(xtest)\n",
    "#print('Predicted values for the test samples:\\n',ypred_lin_reg)\n",
    "print()\n",
    "print('Testing completed')\n",
    "print('='*100)\n",
    "#import metrics\n",
    "from sklearn.metrics import r2_score,mean_squared_error\n",
    "print('*'*100)\n",
    "print('GradientBoosting Regression - Performance Measures')\n",
    "print('*'*100)\n",
    "Accuracy_grad_boost=r2_score(ytest,ypred_grad_boost)\n",
    "MSE_grad_boost=mean_squared_error(ytest,ypred_grad_boost)\n",
    "RMSE_grad_boost=np.sqrt(mean_squared_error(ytest,ypred_grad_boost))\n",
    "print('Accuracy Score - GradientBoosting Regression:\\t',Accuracy_grad_boost)\n",
    "print()\n",
    "print('MSE-GradientBoosting Regression:\\t',MSE_grad_boost)\n",
    "print()\n",
    "print('RMSE GradientBoosting Regression:\\t',RMSE_grad_boost)"
   ]
  },
  {
   "cell_type": "markdown",
   "id": "2e58079e",
   "metadata": {},
   "source": [
    "# Model with Accuracy scores"
   ]
  },
  {
   "cell_type": "code",
   "execution_count": 18,
   "id": "dec27478",
   "metadata": {},
   "outputs": [
    {
     "name": "stdout",
     "output_type": "stream",
     "text": [
      "                      Model  Accuracy_score\n",
      "0         Linear Regression        0.664715\n",
      "4        Adaboost Regressor        0.662430\n",
      "5  Gradient Boost Regressor        0.530854\n",
      "2  Decision Tree Regression        0.473940\n",
      "3                       SVR       -0.011579\n",
      "1            KNN Regression       -0.054957\n"
     ]
    }
   ],
   "source": [
    "scores=[('Linear Regression',Accuracy_lin_reg),\n",
    " ('KNN Regression',Accuracy_knn_reg),\n",
    " ('Decision Tree Regression',Accuracy_dt_reg),\n",
    " ('SVR',Accuracy_svr),\n",
    " ('Adaboost Regressor',Accuracy_ada),\n",
    " ('Gradient Boost Regressor',Accuracy_grad_boost),\n",
    " \n",
    " ]\n",
    "Acc_scores=pd.DataFrame(scores,columns=['Model','Accuracy_score'])\n",
    "print(Acc_scores.sort_values(by='Accuracy_score',ascending=False))"
   ]
  },
  {
   "cell_type": "code",
   "execution_count": 19,
   "id": "537369e2",
   "metadata": {},
   "outputs": [
    {
     "data": {
      "text/plain": [
       "([0, 1, 2, 3, 4, 5],\n",
       " [Text(0, 0, 'Linear Regression'),\n",
       "  Text(1, 0, 'KNN Regression'),\n",
       "  Text(2, 0, 'Decision Tree Regression'),\n",
       "  Text(3, 0, 'SVR'),\n",
       "  Text(4, 0, 'Adaboost Regressor'),\n",
       "  Text(5, 0, 'Gradient Boost Regressor')])"
      ]
     },
     "execution_count": 19,
     "metadata": {},
     "output_type": "execute_result"
    },
    {
     "data": {
      "image/png": "[encoded data removed]",
      "text/plain": [
       "<Figure size 640x480 with 1 Axes>"
      ]
     },
     "metadata": {},
     "output_type": "display_data"
    }
   ],
   "source": [
    "sns.lineplot(x=Acc_scores['Model'],y=Acc_scores['Accuracy_score'],data=Acc_scores)\n",
    "plt.xticks(rotation=90)"
   ]
  },
  {
   "cell_type": "code",
   "execution_count": null,
   "id": "f6f26a6a",
   "metadata": {},
   "outputs": [],
   "source": []
  }
 ],
 "metadata": {
  "kernelspec": {
   "display_name": "Python 3 (ipykernel)",
   "language": "python",
   "name": "python3"
  },
  "language_info": {
   "codemirror_mode": {
    "name": "ipython",
    "version": 3
   },
   "file_extension": ".py",
   "mimetype": "text/x-python",
   "name": "python",
   "nbconvert_exporter": "python",
   "pygments_lexer": "ipython3",
   "version": "3.11.5"
  }
 },
 "nbformat": 4,
 "nbformat_minor": 5
}
